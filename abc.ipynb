{
 "cells": [
  {
   "cell_type": "code",
   "execution_count": 1,
   "metadata": {
    "collapsed": true
   },
   "outputs": [],
   "source": [
    "import pandas as pd\n",
    "import numpy as np\n",
    "import sklearn\n",
    "import statistics as stat\n",
    "from sklearn.model_selection import GridSearchCV\n",
    "from sklearn.preprocessing import LabelEncoder\n",
    "from sklearn.preprocessing import LabelBinarizer\n",
    "from sklearn import linear_model\n",
    "from sklearn.metrics import r2_score\n",
    "import matplotlib.pyplot as plt\n",
    "import seaborn as sns\n",
    "from sklearn.model_selection import cross_val_score\n",
    "from sklearn.model_selection import cross_validate\n",
    "from sklearn.model_selection import LeaveOneOut\n",
    "from sklearn.model_selection import train_test_split\n",
    "sns.set(style=\"whitegrid\")\n",
    "sns.set_color_codes(\"pastel\")\n",
    "%matplotlib inline"
   ]
  },
  {
   "cell_type": "markdown",
   "metadata": {},
   "source": [
    "### Preprocessing"
   ]
  },
  {
   "cell_type": "code",
   "execution_count": 2,
   "metadata": {
    "collapsed": true
   },
   "outputs": [],
   "source": [
    "# This will be our transformed dataframes\n",
    "mathTransformed = pd.read_csv('Datasets/math_transformed.csv')\n",
    "portTransformed = pd.read_csv('Datasets/port_transformed.csv')"
   ]
  },
  {
   "cell_type": "code",
   "execution_count": 3,
   "metadata": {
    "collapsed": true
   },
   "outputs": [],
   "source": [
    "'''\n",
    "1 school - student's school (binary: 'GP' - Gabriel Pereira or 'MS' - Mousinho da Silveira) \n",
    "2 sex - student's sex (binary: 'F' - female or 'M' - male) \n",
    "3 age - student's age (numeric: from 15 to 22) \n",
    "4 address - student's home address type (binary: 'U' - urban or 'R' - rural) \n",
    "5 famsize - family size (binary: 'LE3' - less or equal to 3 or 'GT3' - greater than 3) \n",
    "6 Pstatus - parent's cohabitation status (binary: 'T' - living together or 'A' - apart) \n",
    "7 Medu - mother's education (numeric: 0 - none, 1 - primary education (4th grade), 2 â€“ 5th to 9th grade, 3 â€“ secondary education or 4 â€“ higher education) \n",
    "8 Fedu - father's education (numeric: 0 - none, 1 - primary education (4th grade), 2 â€“ 5th to 9th grade, 3 â€“ secondary education or 4 â€“ higher education) \n",
    "9 Mjob - mother's job (nominal: 'teacher', 'health' care related, civil 'services' (e.g. administrative or police), 'at_home' or 'other') \n",
    "10 Fjob - father's job (nominal: 'teacher', 'health' care related, civil 'services' (e.g. administrative or police), 'at_home' or 'other') \n",
    "11 reason - reason to choose this school (nominal: close to 'home', school 'reputation', 'course' preference or 'other') \n",
    "12 guardian - student's guardian (nominal: 'mother', 'father' or 'other') \n",
    "13 traveltime - home to school travel time (numeric: 1 - <15 min., 2 - 15 to 30 min., 3 - 30 min. to 1 hour, or 4 - >1 hour) \n",
    "14 studytime - weekly study time (numeric: 1 - <2 hours, 2 - 2 to 5 hours, 3 - 5 to 10 hours, or 4 - >10 hours) \n",
    "15 failures - number of past class failures (numeric: n if 1<=n<3, else 4) \n",
    "16 schoolsup - extra educational support (binary: yes or no) \n",
    "17 famsup - family educational support (binary: yes or no) \n",
    "18 paid - extra paid classes within the course subject (Math or Portuguese) (binary: yes or no) \n",
    "19 activities - extra-curricular activities (binary: yes or no) \n",
    "20 nursery - attended nursery school (binary: yes or no) \n",
    "21 higher - wants to take higher education (binary: yes or no) \n",
    "22 internet - Internet access at home (binary: yes or no) \n",
    "23 romantic - with a romantic relationship (binary: yes or no) \n",
    "24 famrel - quality of family relationships (numeric: from 1 - very bad to 5 - excellent) \n",
    "25 freetime - free time after school (numeric: from 1 - very low to 5 - very high) \n",
    "26 goout - going out with friends (numeric: from 1 - very low to 5 - very high) \n",
    "27 Dalc - workday alcohol consumption (numeric: from 1 - very low to 5 - very high) \n",
    "28 Walc - weekend alcohol consumption (numeric: from 1 - very low to 5 - very high) \n",
    "29 health - current health status (numeric: from 1 - very bad to 5 - very good) \n",
    "30 absences - number of school absences (numeric: from 0 to 93) \n",
    "\n",
    "# these grades are related with the course subject, Math or Portuguese: \n",
    "31 G1 - first period grade (numeric: from 0 to 20) \n",
    "31 G2 - second period grade (numeric: from 0 to 20) \n",
    "32 G3 - final grade (numeric: from 0 to 20, output target\n",
    "'''\n",
    "pass"
   ]
  },
  {
   "cell_type": "code",
   "execution_count": 4,
   "metadata": {
    "collapsed": true
   },
   "outputs": [],
   "source": [
    "for i in list(mathTransformed):\n",
    "    if not str(mathTransformed[i][0]).isdigit() or not str(portTransformed[i][0]).isdigit():\n",
    "        assert(False)"
   ]
  },
  {
   "cell_type": "markdown",
   "metadata": {},
   "source": [
    "### We have finally one labeled / one hot vector encoded our input data and can now start learning."
   ]
  },
  {
   "cell_type": "code",
   "execution_count": 5,
   "metadata": {
    "collapsed": true
   },
   "outputs": [],
   "source": [
    "targetColumn = ['G1']\n",
    "featureColumns = [i for i in list(portTransformed) if i not in targetColumn]\n",
    "featureColumnsNoGrades = [i for i in featureColumns if i not in ['G2', 'G3', 'G1']]\n",
    "assert(len(featureColumns) == len(featureColumnsNoGrades)+2)"
   ]
  },
  {
   "cell_type": "code",
   "execution_count": 6,
   "metadata": {
    "collapsed": true
   },
   "outputs": [],
   "source": [
    "portX = portTransformed[featureColumns]\n",
    "portXNoGrades = portTransformed[featureColumnsNoGrades]\n",
    "mathX = mathTransformed[featureColumns]\n",
    "mathXNoGrades = mathTransformed[featureColumnsNoGrades]\n",
    "portY = portTransformed[targetColumn]\n",
    "mathY = mathTransformed[targetColumn]"
   ]
  },
  {
   "cell_type": "markdown",
   "metadata": {},
   "source": [
    "#### What's the naive error if we just predict the average and mean?"
   ]
  },
  {
   "cell_type": "code",
   "execution_count": 7,
   "metadata": {
    "collapsed": true
   },
   "outputs": [],
   "source": [
    "def calculateMAE(lst1, lst2):\n",
    "    ''' \n",
    "    Calculates the mean absolute error between two lists\n",
    "    '''\n",
    "    assert(len(lst1) == len(lst2))\n",
    "    totalError = 0.0\n",
    "    for i in range(len(lst1)):\n",
    "        totalError += abs(lst2[i] - lst1[i])\n",
    "    return totalError / len(lst1)"
   ]
  },
  {
   "cell_type": "code",
   "execution_count": 8,
   "metadata": {
    "collapsed": true
   },
   "outputs": [],
   "source": [
    "def calculateMSE(lst1, lst2):\n",
    "    ''' \n",
    "    Calculates the mean squared error between two lists\n",
    "    '''\n",
    "    assert(len(lst1) == len(lst2))\n",
    "    totalError = 0.0\n",
    "    for i in range(len(lst1)):\n",
    "        totalError += (lst2[i] - lst1[i]) ** 2\n",
    "    return totalError / len(lst1)"
   ]
  },
  {
   "cell_type": "code",
   "execution_count": 9,
   "metadata": {
    "collapsed": true
   },
   "outputs": [],
   "source": [
    "actualG1Math = list(mathTransformed['G1'])\n",
    "actualG1Port = list(portTransformed['G1'])"
   ]
  },
  {
   "cell_type": "code",
   "execution_count": 10,
   "metadata": {
    "collapsed": true
   },
   "outputs": [],
   "source": [
    "mean_math = sum(actualG1Math) / len(actualG1Math)\n",
    "mean_port = sum(actualG1Port)/ len(actualG1Port)\n",
    "median_math = stat.median(actualG1Math)\n",
    "median_port = stat.median(actualG1Port)"
   ]
  },
  {
   "cell_type": "code",
   "execution_count": 11,
   "metadata": {
    "collapsed": true
   },
   "outputs": [],
   "source": [
    "mean_math_lst = [mean_math for _ in range(len(actualG1Math))]\n",
    "median_math_lst = [median_math for _ in range(len(actualG1Math))]\n",
    "mean_port_lst = [mean_port for _ in range(len(actualG1Port))]\n",
    "median_port_lst = [median_port for _ in range (len(actualG1Port))]"
   ]
  },
  {
   "cell_type": "code",
   "execution_count": 12,
   "metadata": {},
   "outputs": [
    {
     "data": {
      "text/plain": [
       "0.0"
      ]
     },
     "execution_count": 12,
     "metadata": {},
     "output_type": "execute_result"
    }
   ],
   "source": [
    "r2_score(mean_math_lst, actualG1Math)"
   ]
  },
  {
   "cell_type": "code",
   "execution_count": 13,
   "metadata": {},
   "outputs": [
    {
     "name": "stdout",
     "output_type": "stream",
     "text": [
      "MAE for mean, math 2.7514436789\n",
      "MAE for median, math 2.74936708861\n",
      "MAE for mean, port 2.20826636214\n",
      "MAE for median, port 2.18489984592\n"
     ]
    }
   ],
   "source": [
    "print(\"MAE for mean, math \" + str(calculateMAE(mean_math_lst, actualG1Math)))\n",
    "print(\"MAE for median, math \" + str(calculateMAE(median_math_lst, actualG1Math)))\n",
    "print(\"MAE for mean, port \" + str(calculateMAE(mean_port_lst, actualG1Port)))\n",
    "print(\"MAE for median, port \" + str(calculateMAE(median_port_lst, actualG1Port)))"
   ]
  },
  {
   "cell_type": "code",
   "execution_count": 14,
   "metadata": {},
   "outputs": [
    {
     "name": "stdout",
     "output_type": "stream",
     "text": [
      "MSE for mean, math 10.9891619933\n",
      "MSE for median, math 10.9974683544\n",
      "MSE for mean, port 7.35435575889\n",
      "MSE for median, port 7.52234206471\n"
     ]
    }
   ],
   "source": [
    "print(\"MSE for mean, math \" + str(calculateMSE(mean_math_lst, actualG1Math)))\n",
    "print(\"MSE for median, math \" + str(calculateMSE(median_math_lst, actualG1Math)))\n",
    "print(\"MSE for mean, port \" + str(calculateMSE(mean_port_lst, actualG1Port)))\n",
    "print(\"MSE for median, port \" + str(calculateMSE(median_port_lst, actualG1Port)))"
   ]
  },
  {
   "cell_type": "markdown",
   "metadata": {},
   "source": [
    "##### Now, for some actual ML"
   ]
  },
  {
   "cell_type": "code",
   "execution_count": 15,
   "metadata": {
    "collapsed": true
   },
   "outputs": [],
   "source": [
    "def linearRegression(originalDf, targetColumn, featureColumns):\n",
    "    '''\n",
    "    Runs unregularized linear regression and returns the \n",
    "    R^2 and mean squared error (averaged over all folds \n",
    "    via cross validation)\n",
    "    '''\n",
    "    lm = linear_model.LinearRegression(normalize=True)\n",
    "    X = originalDf[featureColumns]\n",
    "    y = originalDf[targetColumn]\n",
    "    scores = cross_validate(lm, X, y, scoring=['r2','neg_mean_squared_error', 'neg_mean_absolute_error'], cv=10, return_train_score=False)\n",
    "    return lm, scores"
   ]
  },
  {
   "cell_type": "code",
   "execution_count": 16,
   "metadata": {
    "collapsed": true
   },
   "outputs": [],
   "source": [
    "def linearRegressionRidge(originalDf, targetColumn, featureColumns):\n",
    "    '''\n",
    "    Runs ridge regularized linear regression and returns the \n",
    "    mean and standard deviation of test scores\n",
    "    '''\n",
    "    parameters = {'alpha' : np.arange(0.0001, 0.01, 0.01)}\n",
    "    scoringMethods = ['r2','neg_mean_squared_error', 'neg_mean_absolute_error']\n",
    "    test_scores = []\n",
    "    lm = linear_model.Ridge(normalize=True)\n",
    "    for score in scoringMethods:\n",
    "        X = originalDf[featureColumns]\n",
    "        y = originalDf[targetColumn]\n",
    "        clf = GridSearchCV(lm, parameters, cv=10, scoring=score)\n",
    "        clf.fit(X,y)\n",
    "        test_scores.append(clf.best_score_)\n",
    "    return clf.best_estimator_, test_scores"
   ]
  },
  {
   "cell_type": "code",
   "execution_count": 17,
   "metadata": {
    "collapsed": true
   },
   "outputs": [],
   "source": [
    "def linearRegressionLasso(originalDf, targetColumn, featureColumns):\n",
    "    '''\n",
    "    Runs lasso regularized linear regression and returns the \n",
    "    mean and standard deviation of test scores\n",
    "    '''\n",
    "    parameters =  {'alpha' : np.arange(0.0001, 0.1, 0.01)}\n",
    "    scoringMethods = ['r2','neg_mean_squared_error', 'neg_mean_absolute_error']\n",
    "    test_scores = []\n",
    "    lm = linear_model.Lasso(normalize=True)\n",
    "    for score in scoringMethods:\n",
    "        X = originalDf[featureColumns]\n",
    "        y = originalDf[targetColumn]\n",
    "        clf = GridSearchCV(lm, parameters, cv=10, scoring=score)\n",
    "        clf.fit(X,y)\n",
    "        test_scores.append(clf.best_score_)\n",
    "    return clf.best_estimator_, test_scores"
   ]
  },
  {
   "cell_type": "code",
   "execution_count": 18,
   "metadata": {
    "collapsed": true
   },
   "outputs": [],
   "source": [
    "def returnAttributesWithLargestCoefficients(training, testing, model):\n",
    "    '''\n",
    "    This methods takes in a model and a training testing. It fits\n",
    "    the model and then returns the attributes with their corresponding\n",
    "    coefficient, ordered from largest to smallest.\n",
    "    '''\n",
    "    model.fit(training, testing)\n",
    "    coefficients = model.coef_[0]\n",
    "    finalLst = []\n",
    "    attributes = list(training)\n",
    "    assert(len(attributes) == len(coefficients))\n",
    "    for i in range(len(attributes)):\n",
    "        finalLst.append([attributes[i], coefficients[i]])\n",
    "    finalLst.sort(key = lambda x: abs(x[1]), reverse=True)\n",
    "    return finalLst"
   ]
  },
  {
   "cell_type": "markdown",
   "metadata": {},
   "source": [
    "#### Let's first start with linear regression"
   ]
  },
  {
   "cell_type": "code",
   "execution_count": 19,
   "metadata": {
    "collapsed": true
   },
   "outputs": [],
   "source": [
    "def runLinearRegression(df, targetColumn, featureColumns):\n",
    "    '''\n",
    "    This function runs all the linear regression models on the specific\n",
    "    dataset using specified target and feature columns and returns back\n",
    "    the scores as a list of tuples (a,b, c) where a corresponds to the model, \n",
    "    b corresponds to the R^2 scores and c corresponds to the mean squared errors\n",
    "    (over all runs).\n",
    "    '''\n",
    "    unregularized_lm, unregularized = linearRegression(df, targetColumn, featureColumns)\n",
    "    ridge_lm, ridge = linearRegressionRidge(df, targetColumn, featureColumns)\n",
    "    lasso_lm, lasso = linearRegressionLasso(df, targetColumn, featureColumns)\n",
    "    return [[unregularized_lm, unregularized['test_r2'], unregularized['test_neg_mean_squared_error'], unregularized['test_neg_mean_absolute_error']],\n",
    "            [ridge_lm, ridge[0], ridge[1], ridge[2]],\n",
    "            [lasso_lm, lasso[0], lasso[1], lasso[2]]]"
   ]
  },
  {
   "cell_type": "code",
   "execution_count": 20,
   "metadata": {
    "collapsed": true
   },
   "outputs": [],
   "source": [
    "def return_residuals(model, df, col_to_predict):\n",
    "    '''\n",
    "    Using a 90/10 split of data, returns list of residuals for predictions\n",
    "    of testing set.\n",
    "    '''\n",
    "    all_columns = list(df)\n",
    "    all_X = [i for i in all_columns if i not in ['G1', 'G2', 'G3']]\n",
    "    y = df[col_to_predict]\n",
    "    X = df[all_X]\n",
    "    X_train, X_test, y_train, y_test = train_test_split(X, y, test_size=0.1)\n",
    "    model.fit(X_train, y_train)\n",
    "    all_residuals = []\n",
    "    residuals = model.predict(X_test)\n",
    "    y_test = list(y_test)\n",
    "    for i in range(len(y_test)):\n",
    "        residual = (y_test[i] - residuals[i])\n",
    "        all_residuals.append(residual)\n",
    "    return all_residuals"
   ]
  },
  {
   "cell_type": "markdown",
   "metadata": {},
   "source": [
    "###### Portuguese \n"
   ]
  },
  {
   "cell_type": "markdown",
   "metadata": {},
   "source": [
    "######  Predicting G1"
   ]
  },
  {
   "cell_type": "code",
   "execution_count": 21,
   "metadata": {
    "collapsed": true
   },
   "outputs": [],
   "source": [
    "unregularized, ridge, lasso = runLinearRegression(portTransformed, targetColumn, featureColumnsNoGrades)"
   ]
  },
  {
   "cell_type": "code",
   "execution_count": 22,
   "metadata": {
    "scrolled": true
   },
   "outputs": [
    {
     "name": "stdout",
     "output_type": "stream",
     "text": [
      "Unregularized accuracy: 0.16 (+/- 0.17)\n",
      "Unregularized accuracy: -5.42 (+/- 4.21)\n",
      "Unregularized accuracy: -1.82 (+/- 0.69)\n",
      "Ridge accuracy: 0.16 (+/- 0.00)\n",
      "Ridge accuracy: -5.41 (+/- 0.00)\n",
      "Ridge accuracy: -1.82 (+/- 0.00)\n",
      "Lasso accuracy: 0.16 (+/- 0.00)\n",
      "Lasso accuracy: -5.40 (+/- 0.00)\n",
      "Lasso accuracy: -1.82 (+/- 0.00)\n"
     ]
    }
   ],
   "source": [
    "print(\"Unregularized accuracy: %0.2f (+/- %0.2f)\" % (unregularized[1].mean(), unregularized[1].std() * 2))\n",
    "print(\"Unregularized accuracy: %0.2f (+/- %0.2f)\" % (unregularized[2].mean(), unregularized[2].std() * 2))\n",
    "print(\"Unregularized accuracy: %0.2f (+/- %0.2f)\" % (unregularized[3].mean(), unregularized[3].std() * 2))\n",
    "print(\"Ridge accuracy: %0.2f (+/- %0.2f)\" % (ridge[1].mean(), ridge[1].std() * 2))\n",
    "print(\"Ridge accuracy: %0.2f (+/- %0.2f)\" % (ridge[2].mean(), ridge[2].std() * 2))\n",
    "print(\"Ridge accuracy: %0.2f (+/- %0.2f)\" % (ridge[3].mean(), ridge[3].std() * 2))\n",
    "print(\"Lasso accuracy: %0.2f (+/- %0.2f)\" % (lasso[1].mean(), lasso[1].std() * 2))\n",
    "print(\"Lasso accuracy: %0.2f (+/- %0.2f)\" % (lasso[2].mean(), lasso[2].std() * 2))\n",
    "print(\"Lasso accuracy: %0.2f (+/- %0.2f)\" % (lasso[3].mean(), lasso[3].std() * 2))"
   ]
  },
  {
   "cell_type": "code",
   "execution_count": 23,
   "metadata": {
    "collapsed": true
   },
   "outputs": [],
   "source": [
    "port_lm_resid = return_residuals(lasso[0], portTransformed, 'G1')"
   ]
  },
  {
   "cell_type": "markdown",
   "metadata": {},
   "source": [
    "###### Math\n"
   ]
  },
  {
   "cell_type": "markdown",
   "metadata": {},
   "source": [
    "###### Predicting G1"
   ]
  },
  {
   "cell_type": "code",
   "execution_count": 24,
   "metadata": {
    "collapsed": true
   },
   "outputs": [],
   "source": [
    "unregularized, ridge, lasso = runLinearRegression(mathTransformed, targetColumn, featureColumnsNoGrades)"
   ]
  },
  {
   "cell_type": "code",
   "execution_count": 25,
   "metadata": {
    "scrolled": true
   },
   "outputs": [
    {
     "name": "stdout",
     "output_type": "stream",
     "text": [
      "Unregularized accuracy: 0.06 (+/- 0.46)\n",
      "Unregularized accuracy: -9.70 (+/- 4.64)\n",
      "Unregularized accuracy: -2.56 (+/- 0.72)\n",
      "Ridge accuracy: 0.06 (+/- 0.00)\n",
      "Ridge accuracy: -9.70 (+/- 0.00)\n",
      "Ridge accuracy: -2.56 (+/- 0.00)\n",
      "Lasso accuracy: 0.10 (+/- 0.00)\n",
      "Lasso accuracy: -9.30 (+/- 0.00)\n",
      "Lasso accuracy: -2.53 (+/- 0.00)\n"
     ]
    }
   ],
   "source": [
    "print(\"Unregularized accuracy: %0.2f (+/- %0.2f)\" % (unregularized[1].mean(), unregularized[1].std() * 2))\n",
    "print(\"Unregularized accuracy: %0.2f (+/- %0.2f)\" % (unregularized[2].mean(), unregularized[2].std() * 2))\n",
    "print(\"Unregularized accuracy: %0.2f (+/- %0.2f)\" % (unregularized[3].mean(), unregularized[3].std() * 2))\n",
    "print(\"Ridge accuracy: %0.2f (+/- %0.2f)\" % (ridge[1].mean(), ridge[1].std() * 2))\n",
    "print(\"Ridge accuracy: %0.2f (+/- %0.2f)\" % (ridge[2].mean(), ridge[2].std() * 2))\n",
    "print(\"Ridge accuracy: %0.2f (+/- %0.2f)\" % (ridge[3].mean(), ridge[3].std() * 2))\n",
    "print(\"Lasso accuracy: %0.2f (+/- %0.2f)\" % (lasso[1].mean(), lasso[1].std() * 2))\n",
    "print(\"Lasso accuracy: %0.2f (+/- %0.2f)\" % (lasso[2].mean(), lasso[2].std() * 2))\n",
    "print(\"Lasso accuracy: %0.2f (+/- %0.2f)\" % (lasso[3].mean(), lasso[3].std() * 2))"
   ]
  },
  {
   "cell_type": "code",
   "execution_count": 26,
   "metadata": {
    "collapsed": true
   },
   "outputs": [],
   "source": [
    "math_lm_resid = return_residuals(lasso[0], mathTransformed, 'G1')"
   ]
  },
  {
   "cell_type": "markdown",
   "metadata": {},
   "source": [
    "#### Let's now do SVM"
   ]
  },
  {
   "cell_type": "code",
   "execution_count": 27,
   "metadata": {
    "collapsed": true
   },
   "outputs": [],
   "source": [
    "from sklearn.svm import SVR"
   ]
  },
  {
   "cell_type": "code",
   "execution_count": 28,
   "metadata": {
    "collapsed": true
   },
   "outputs": [],
   "source": [
    "def SVM(originalDf, targetColumn, featureColumns):\n",
    "    '''\n",
    "    Runs ridge regularized linear regression and returns the \n",
    "    mean and standard deviation of test scores\n",
    "    '''\n",
    "    parameters = {'C' : np.arange(0.1, 10, .5)}\n",
    "    test_scores = []\n",
    "    X = originalDf[featureColumns]\n",
    "    y = np.ravel(originalDf[targetColumn])\n",
    "    svr = SVR()\n",
    "    scoringMethods = ['r2','neg_mean_squared_error', 'neg_mean_absolute_error']\n",
    "    for score in scoringMethods:\n",
    "        clf = GridSearchCV(svr, parameters, cv=10, scoring=score)\n",
    "        clf.fit(X,y)\n",
    "        test_scores.append(clf.best_score_)\n",
    "    return clf.best_estimator_, test_scores"
   ]
  },
  {
   "cell_type": "markdown",
   "metadata": {},
   "source": [
    "###### Portuguese \n"
   ]
  },
  {
   "cell_type": "markdown",
   "metadata": {},
   "source": [
    "##### Predicting G1"
   ]
  },
  {
   "cell_type": "code",
   "execution_count": 29,
   "metadata": {},
   "outputs": [
    {
     "name": "stdout",
     "output_type": "stream",
     "text": [
      "SVM accuracy: 0.11 (+/- 0.00)\n",
      "SVM accuracy: -5.72 (+/- 0.00)\n",
      "SVM accuracy: -1.88 (+/- 0.00)\n"
     ]
    }
   ],
   "source": [
    "port_svm_best, results = SVM(portTransformed, targetColumn, featureColumnsNoGrades)\n",
    "print(\"SVM accuracy: %0.2f (+/- %0.2f)\" % (results[0].mean(), results[0].std() * 2))\n",
    "print(\"SVM accuracy: %0.2f (+/- %0.2f)\" % (results[1].mean(), results[1].std() * 2))\n",
    "print(\"SVM accuracy: %0.2f (+/- %0.2f)\" % (results[2].mean(), results[2].std() * 2))"
   ]
  },
  {
   "cell_type": "code",
   "execution_count": 30,
   "metadata": {
    "collapsed": true
   },
   "outputs": [],
   "source": [
    "port_svm_resid = return_residuals(port_svm_best, portTransformed, 'G1')"
   ]
  },
  {
   "cell_type": "markdown",
   "metadata": {},
   "source": [
    "###### Math\n"
   ]
  },
  {
   "cell_type": "markdown",
   "metadata": {},
   "source": [
    "##### Predicting G1"
   ]
  },
  {
   "cell_type": "code",
   "execution_count": 31,
   "metadata": {},
   "outputs": [
    {
     "name": "stdout",
     "output_type": "stream",
     "text": [
      "SVM accuracy: -0.01 (+/- 0.00)\n",
      "SVM accuracy: -10.41 (+/- 0.00)\n",
      "SVM accuracy: -2.64 (+/- 0.00)\n"
     ]
    }
   ],
   "source": [
    "math_svm_best, results_math_svm = SVM(mathTransformed, targetColumn, featureColumnsNoGrades)\n",
    "print(\"SVM accuracy: %0.2f (+/- %0.2f)\" % (results_math_svm[0].mean(), results_math_svm[0].std() * 2))\n",
    "print(\"SVM accuracy: %0.2f (+/- %0.2f)\" % (results_math_svm[1].mean(), results_math_svm[1].std() * 2))\n",
    "print(\"SVM accuracy: %0.2f (+/- %0.2f)\" % (results_math_svm[2].mean(), results_math_svm[2].std() * 2))"
   ]
  },
  {
   "cell_type": "code",
   "execution_count": 32,
   "metadata": {
    "collapsed": true
   },
   "outputs": [],
   "source": [
    "math_svm_resid = return_residuals(math_svm_best, mathTransformed, 'G1')"
   ]
  },
  {
   "cell_type": "markdown",
   "metadata": {},
   "source": [
    "# PLOTTING RESIDUALS"
   ]
  },
  {
   "cell_type": "code",
   "execution_count": 33,
   "metadata": {},
   "outputs": [
    {
     "data": {
      "text/plain": [
       "(40, 65)"
      ]
     },
     "execution_count": 33,
     "metadata": {},
     "output_type": "execute_result"
    }
   ],
   "source": [
    "len(math_svm_resid), len(port_svm_resid)"
   ]
  },
  {
   "cell_type": "code",
   "execution_count": 34,
   "metadata": {
    "collapsed": true
   },
   "outputs": [],
   "source": [
    "portS = ['Portuguese' for i in range(2*65)]\n",
    "mathS = ['Math' for i in range(2*40)]\n",
    "model = ['Linear regression' for i in range(65)] + ['SVM' for i in range(65)] + ['Linear regression' for i in range(40)] + ['SVM' for i in range(40)]\n",
    "errors = port_lm_resid + port_svm_resid + math_lm_resid + math_svm_resid\n",
    "subject = portS + mathS"
   ]
  },
  {
   "cell_type": "code",
   "execution_count": 35,
   "metadata": {},
   "outputs": [
    {
     "data": {
      "text/plain": [
       "(40, 65)"
      ]
     },
     "execution_count": 35,
     "metadata": {},
     "output_type": "execute_result"
    }
   ],
   "source": [
    "len(math_lm_resid), len(port_lm_resid)"
   ]
  },
  {
   "cell_type": "code",
   "execution_count": 36,
   "metadata": {
    "collapsed": true
   },
   "outputs": [],
   "source": [
    "d_port = {'Model':model, 'Residual Error': errors, 'Subject': subject}\n",
    "df_port = pd.DataFrame(data=d_port)"
   ]
  },
  {
   "cell_type": "code",
   "execution_count": 37,
   "metadata": {},
   "outputs": [
    {
     "data": {
      "text/html": [
       "<div>\n",
       "<style>\n",
       "    .dataframe thead tr:only-child th {\n",
       "        text-align: right;\n",
       "    }\n",
       "\n",
       "    .dataframe thead th {\n",
       "        text-align: left;\n",
       "    }\n",
       "\n",
       "    .dataframe tbody tr th {\n",
       "        vertical-align: top;\n",
       "    }\n",
       "</style>\n",
       "<table border=\"1\" class=\"dataframe\">\n",
       "  <thead>\n",
       "    <tr style=\"text-align: right;\">\n",
       "      <th></th>\n",
       "      <th>Model</th>\n",
       "      <th>Residual Error</th>\n",
       "      <th>Subject</th>\n",
       "    </tr>\n",
       "  </thead>\n",
       "  <tbody>\n",
       "    <tr>\n",
       "      <th>0</th>\n",
       "      <td>Linear regression</td>\n",
<<<<<<< HEAD
       "      <td>-2.796556</td>\n",
=======
       "      <td>-3.691233</td>\n",
>>>>>>> 70154f51e4b76880bf35a3674b07992c3217dc0c
       "      <td>Portuguese</td>\n",
       "    </tr>\n",
       "    <tr>\n",
       "      <th>1</th>\n",
       "      <td>Linear regression</td>\n",
<<<<<<< HEAD
       "      <td>1.305003</td>\n",
=======
       "      <td>-0.635535</td>\n",
>>>>>>> 70154f51e4b76880bf35a3674b07992c3217dc0c
       "      <td>Portuguese</td>\n",
       "    </tr>\n",
       "    <tr>\n",
       "      <th>2</th>\n",
       "      <td>Linear regression</td>\n",
<<<<<<< HEAD
       "      <td>-1.217913</td>\n",
=======
       "      <td>0.520285</td>\n",
>>>>>>> 70154f51e4b76880bf35a3674b07992c3217dc0c
       "      <td>Portuguese</td>\n",
       "    </tr>\n",
       "    <tr>\n",
       "      <th>3</th>\n",
       "      <td>Linear regression</td>\n",
<<<<<<< HEAD
       "      <td>-3.406199</td>\n",
=======
       "      <td>0.096131</td>\n",
>>>>>>> 70154f51e4b76880bf35a3674b07992c3217dc0c
       "      <td>Portuguese</td>\n",
       "    </tr>\n",
       "    <tr>\n",
       "      <th>4</th>\n",
       "      <td>Linear regression</td>\n",
<<<<<<< HEAD
       "      <td>-2.406026</td>\n",
=======
       "      <td>1.298886</td>\n",
>>>>>>> 70154f51e4b76880bf35a3674b07992c3217dc0c
       "      <td>Portuguese</td>\n",
       "    </tr>\n",
       "  </tbody>\n",
       "</table>\n",
       "</div>"
      ],
      "text/plain": [
       "               Model  Residual Error     Subject\n",
<<<<<<< HEAD
       "0  Linear regression       -2.796556  Portuguese\n",
       "1  Linear regression        1.305003  Portuguese\n",
       "2  Linear regression       -1.217913  Portuguese\n",
       "3  Linear regression       -3.406199  Portuguese\n",
       "4  Linear regression       -2.406026  Portuguese"
=======
       "0  Linear regression       -3.691233  Portuguese\n",
       "1  Linear regression       -0.635535  Portuguese\n",
       "2  Linear regression        0.520285  Portuguese\n",
       "3  Linear regression        0.096131  Portuguese\n",
       "4  Linear regression        1.298886  Portuguese"
>>>>>>> 70154f51e4b76880bf35a3674b07992c3217dc0c
      ]
     },
     "execution_count": 37,
     "metadata": {},
     "output_type": "execute_result"
    }
   ],
   "source": [
    "df_port.head()"
   ]
  },
  {
   "cell_type": "code",
<<<<<<< HEAD
   "execution_count": 39,
=======
   "execution_count": 38,
>>>>>>> 70154f51e4b76880bf35a3674b07992c3217dc0c
   "metadata": {},
   "outputs": [
    {
     "data": {
<<<<<<< HEAD
      "image/png": "iVBORw0KGgoAAAANSUhEUgAAAX0AAAEFCAYAAAAPCDf9AAAABHNCSVQICAgIfAhkiAAAAAlwSFlz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\n",
      "text/plain": [
       "<matplotlib.figure.Figure at 0x11b849208>"
=======
      "image/png": "iVBORw0KGgoAAAANSUhEUgAAAX0AAAEFCAYAAAAPCDf9AAAABHNCSVQICAgIfAhkiAAAAAlwSFlz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\nI9EAAAAASUVORK5CYII=\n",
      "text/plain": [
       "<matplotlib.figure.Figure at 0x4ad35df550>"
>>>>>>> 70154f51e4b76880bf35a3674b07992c3217dc0c
      ]
     },
     "metadata": {},
     "output_type": "display_data"
    }
   ],
   "source": [
    "#ax = sns.violinplot(x = 'Model', y = 'Errors', data=df_port)\n",
    "ax = sns.swarmplot(x = 'Model', y = 'Residual Error', hue='Subject', data=df_port, palette=\"Set2\", split=True)\n",
    "ax.grid(False)"
   ]
  },
  {
   "cell_type": "code",
   "execution_count": null,
   "metadata": {
    "collapsed": true
   },
   "outputs": [],
   "source": []
  }
 ],
 "metadata": {
  "kernelspec": {
   "display_name": "Python 3",
   "language": "python",
   "name": "python3"
  },
  "language_info": {
   "codemirror_mode": {
    "name": "ipython",
    "version": 3
   },
   "file_extension": ".py",
   "mimetype": "text/x-python",
   "name": "python",
   "nbconvert_exporter": "python",
   "pygments_lexer": "ipython3",
   "version": "3.6.1"
  }
 },
 "nbformat": 4,
 "nbformat_minor": 2
}
