{
 "cells": [
  {
   "cell_type": "code",
   "execution_count": 189,
   "metadata": {
    "collapsed": true
   },
   "outputs": [],
   "source": [
    "import pandas as pd\n",
    "import numpy as np\n",
    "import sklearn\n",
    "from sklearn.model_selection import GridSearchCV\n",
    "from sklearn.preprocessing import LabelEncoder\n",
    "from sklearn.preprocessing import LabelBinarizer\n",
    "from sklearn import linear_model\n",
    "import matplotlib.pyplot as plt\n",
    "import seaborn as sns\n",
    "from sklearn.model_selection import cross_val_score\n",
    "from sklearn.model_selection import cross_validate\n",
    "from sklearn.model_selection import LeaveOneOut\n",
    "sns.set(style=\"whitegrid\")\n",
    "sns.set_color_codes(\"pastel\")\n",
    "%matplotlib inline"
   ]
  },
  {
   "cell_type": "markdown",
   "metadata": {},
   "source": [
    "### Preprocessing"
   ]
  },
  {
   "cell_type": "code",
   "execution_count": 190,
   "metadata": {
    "collapsed": true
   },
   "outputs": [],
   "source": [
    "math = pd.read_csv('math.csv')\n",
    "port = pd.read_csv('port.csv')"
   ]
  },
  {
   "cell_type": "code",
   "execution_count": 191,
   "metadata": {
    "collapsed": true
   },
   "outputs": [],
   "source": [
    "# Dropping the first column of ID numbers\n",
    "del[math['Unnamed: 0']]\n",
    "del[port['Unnamed: 0']]"
   ]
  },
  {
   "cell_type": "code",
   "execution_count": 192,
   "metadata": {
    "collapsed": true
   },
   "outputs": [],
   "source": [
    "# This will be our transformed dataframes\n",
    "mathTransformed = math.copy(deep=True)\n",
    "portTransformed = port.copy(deep=True)"
   ]
  },
  {
   "cell_type": "code",
   "execution_count": 193,
   "metadata": {
    "collapsed": true
   },
   "outputs": [],
   "source": [
    "'''\n",
    "1 school - student's school (binary: 'GP' - Gabriel Pereira or 'MS' - Mousinho da Silveira) \n",
    "2 sex - student's sex (binary: 'F' - female or 'M' - male) \n",
    "3 age - student's age (numeric: from 15 to 22) \n",
    "4 address - student's home address type (binary: 'U' - urban or 'R' - rural) \n",
    "5 famsize - family size (binary: 'LE3' - less or equal to 3 or 'GT3' - greater than 3) \n",
    "6 Pstatus - parent's cohabitation status (binary: 'T' - living together or 'A' - apart) \n",
    "7 Medu - mother's education (numeric: 0 - none, 1 - primary education (4th grade), 2 â€“ 5th to 9th grade, 3 â€“ secondary education or 4 â€“ higher education) \n",
    "8 Fedu - father's education (numeric: 0 - none, 1 - primary education (4th grade), 2 â€“ 5th to 9th grade, 3 â€“ secondary education or 4 â€“ higher education) \n",
    "9 Mjob - mother's job (nominal: 'teacher', 'health' care related, civil 'services' (e.g. administrative or police), 'at_home' or 'other') \n",
    "10 Fjob - father's job (nominal: 'teacher', 'health' care related, civil 'services' (e.g. administrative or police), 'at_home' or 'other') \n",
    "11 reason - reason to choose this school (nominal: close to 'home', school 'reputation', 'course' preference or 'other') \n",
    "12 guardian - student's guardian (nominal: 'mother', 'father' or 'other') \n",
    "13 traveltime - home to school travel time (numeric: 1 - <15 min., 2 - 15 to 30 min., 3 - 30 min. to 1 hour, or 4 - >1 hour) \n",
    "14 studytime - weekly study time (numeric: 1 - <2 hours, 2 - 2 to 5 hours, 3 - 5 to 10 hours, or 4 - >10 hours) \n",
    "15 failures - number of past class failures (numeric: n if 1<=n<3, else 4) \n",
    "16 schoolsup - extra educational support (binary: yes or no) \n",
    "17 famsup - family educational support (binary: yes or no) \n",
    "18 paid - extra paid classes within the course subject (Math or Portuguese) (binary: yes or no) \n",
    "19 activities - extra-curricular activities (binary: yes or no) \n",
    "20 nursery - attended nursery school (binary: yes or no) \n",
    "21 higher - wants to take higher education (binary: yes or no) \n",
    "22 internet - Internet access at home (binary: yes or no) \n",
    "23 romantic - with a romantic relationship (binary: yes or no) \n",
    "24 famrel - quality of family relationships (numeric: from 1 - very bad to 5 - excellent) \n",
    "25 freetime - free time after school (numeric: from 1 - very low to 5 - very high) \n",
    "26 goout - going out with friends (numeric: from 1 - very low to 5 - very high) \n",
    "27 Dalc - workday alcohol consumption (numeric: from 1 - very low to 5 - very high) \n",
    "28 Walc - weekend alcohol consumption (numeric: from 1 - very low to 5 - very high) \n",
    "29 health - current health status (numeric: from 1 - very bad to 5 - very good) \n",
    "30 absences - number of school absences (numeric: from 0 to 93) \n",
    "\n",
    "# these grades are related with the course subject, Math or Portuguese: \n",
    "31 G1 - first period grade (numeric: from 0 to 20) \n",
    "31 G2 - second period grade (numeric: from 0 to 20) \n",
    "32 G3 - final grade (numeric: from 0 to 20, output target\n",
    "'''\n",
    "pass"
   ]
  },
  {
   "cell_type": "code",
   "execution_count": 194,
   "metadata": {
    "collapsed": true
   },
   "outputs": [],
   "source": [
    "def returnCategoricalColumns(df):\n",
    "    '''\n",
    "    This function takes in a dataframe and returns the \n",
    "    column names which are categorical / must be labeled\n",
    "    numerically for training.\n",
    "    '''\n",
    "    columns = []\n",
    "    for i in list(df):\n",
    "        if not str(math[i][0]).isdigit():\n",
    "            columns.append(i)\n",
    "    return columns    "
   ]
  },
  {
   "cell_type": "code",
   "execution_count": 195,
   "metadata": {
    "collapsed": true
   },
   "outputs": [],
   "source": [
    "def getBinaryAndNominalColumns(df, categoricalColumns):\n",
    "    '''\n",
    "    This function takes a list of categorical columns\n",
    "    and separates into a list of binary columns, which\n",
    "    we can easily one label encode into 0/1 and \n",
    "    nominal columns which we will need to one hot vector\n",
    "    encode.\n",
    "    '''\n",
    "    binary = []\n",
    "    nominal = []\n",
    "    for i in categoricalColumns:\n",
    "        if len(list(set(df[i]))) == 2:\n",
    "            binary.append(i)\n",
    "        else:\n",
    "            nominal.append(i)\n",
    "    return binary, nominal"
   ]
  },
  {
   "cell_type": "code",
   "execution_count": 196,
   "metadata": {},
   "outputs": [
    {
     "name": "stdout",
     "output_type": "stream",
     "text": [
      "['school', 'sex', 'address', 'famsize', 'Pstatus', 'Mjob', 'Fjob', 'reason', 'guardian', 'schoolsup', 'famsup', 'paid', 'activities', 'nursery', 'higher', 'internet', 'romantic']\n"
     ]
    }
   ],
   "source": [
    "# categorical columns are the same for both port and math\n",
    "assert(returnCategoricalColumns(math) == returnCategoricalColumns(port))\n",
    "categoricalColumns = returnCategoricalColumns(math)\n",
    "print(categoricalColumns)"
   ]
  },
  {
   "cell_type": "code",
   "execution_count": 197,
   "metadata": {},
   "outputs": [
    {
     "name": "stdout",
     "output_type": "stream",
     "text": [
      "['school', 'sex', 'address', 'famsize', 'Pstatus', 'schoolsup', 'famsup', 'paid', 'activities', 'nursery', 'higher', 'internet', 'romantic']\n",
      "['Mjob', 'Fjob', 'reason', 'guardian']\n"
     ]
    }
   ],
   "source": [
    "binary, nominal = getBinaryAndNominalColumns(math, categoricalColumns)\n",
    "print(binary)\n",
    "print(nominal)"
   ]
  },
  {
   "cell_type": "code",
   "execution_count": 198,
   "metadata": {
    "collapsed": true
   },
   "outputs": [],
   "source": [
    "def convertBinaryColumns(df, binary, transformed_df):\n",
    "    '''\n",
    "    This function converts the binary columns in our dataframe\n",
    "    into numerical (0/1) labels and adds a corresponding\n",
    "    column to transformed_df\n",
    "    '''\n",
    "    for i in binary:\n",
    "        lb_style = LabelBinarizer()\n",
    "        lb_results = lb_style.fit_transform(df[i])\n",
    "        transformed_df[i] = lb_results"
   ]
  },
  {
   "cell_type": "code",
   "execution_count": 199,
   "metadata": {
    "collapsed": true
   },
   "outputs": [],
   "source": [
    "convertBinaryColumns(math, binary, mathTransformed)\n",
    "convertBinaryColumns(port, binary, portTransformed)"
   ]
  },
  {
   "cell_type": "code",
   "execution_count": 200,
   "metadata": {
    "collapsed": true
   },
   "outputs": [],
   "source": [
    "assert(list(portTransformed) == list(port))\n",
    "assert(list(mathTransformed) == list(math))"
   ]
  },
  {
   "cell_type": "code",
   "execution_count": 201,
   "metadata": {
    "collapsed": true
   },
   "outputs": [],
   "source": [
    "# One hot vector encode nominal variables\n",
    "mathTransformed = pd.get_dummies(mathTransformed, columns=nominal)\n",
    "portTransformed = pd.get_dummies(portTransformed, columns=nominal)"
   ]
  },
  {
   "cell_type": "code",
   "execution_count": 202,
   "metadata": {
    "collapsed": true
   },
   "outputs": [],
   "source": [
    "assert(list(portTransformed) == list(mathTransformed))"
   ]
  },
  {
   "cell_type": "code",
   "execution_count": 203,
   "metadata": {
    "collapsed": true
   },
   "outputs": [],
   "source": [
    "for i in list(mathTransformed):\n",
    "    if not str(mathTransformed[i][0]).isdigit() or not str(portTransformed[i][0]).isdigit():\n",
    "        assert(False)"
   ]
  },
  {
   "cell_type": "markdown",
   "metadata": {},
   "source": [
    "### We have finally one labeled / one hot vector encoded our input data and can now start learning."
   ]
  },
  {
   "cell_type": "code",
   "execution_count": 204,
   "metadata": {
    "collapsed": true
   },
   "outputs": [],
   "source": [
    "targetColumn = ['G3']\n",
    "featureColumns = [i for i in list(portTransformed) if i not in targetColumn]\n",
    "featureColumnsNoGrades = [i for i in featureColumns if i not in ['G1', 'G2']]\n",
    "assert(len(featureColumns) == len(featureColumnsNoGrades)+2)"
   ]
  },
  {
   "cell_type": "code",
   "execution_count": 205,
   "metadata": {
    "collapsed": true
   },
   "outputs": [],
   "source": [
    "portX = portTransformed[featureColumns]\n",
    "portXNoGrades = portTransformed[featureColumnsNoGrades]\n",
    "mathX = mathTransformed[featureColumns]\n",
    "mathXNoGrades = mathTransformed[featureColumnsNoGrades]\n",
    "portY = portTransformed[targetColumn]\n",
    "mathY = mathTransformed[targetColumn]"
   ]
  },
  {
   "cell_type": "code",
   "execution_count": 206,
   "metadata": {
    "collapsed": true
   },
   "outputs": [],
   "source": [
    "def linearRegression(originalDf, targetColumn, featureColumns):\n",
    "    '''\n",
    "    Runs unregularized linear regression and returns the \n",
    "    R^2 and mean squared error (averaged over all folds \n",
    "    via cross validation)\n",
    "    '''\n",
    "    lm = linear_model.LinearRegression(normalize=True)\n",
    "    X = originalDf[featureColumns]\n",
    "    y = originalDf[targetColumn]\n",
    "    scores = cross_validate(lm, X, y, scoring=['r2','neg_mean_squared_error'], cv=10, return_train_score=False)\n",
    "    return lm, scores"
   ]
  },
  {
   "cell_type": "code",
   "execution_count": 207,
   "metadata": {
    "collapsed": true
   },
   "outputs": [],
   "source": [
    "def linearRegressionRidge(originalDf, targetColumn, featureColumns):\n",
    "    '''\n",
    "    Runs ridge regularized linear regression and returns the \n",
    "    mean and standard deviation of test scores\n",
    "    '''\n",
    "    parameters = {'alpha' : np.arange(0.0001, 0.01, 0.01)}\n",
    "    scoringMethods = ['r2','neg_mean_squared_error']\n",
    "    test_scores = []\n",
    "    lm = linear_model.Ridge(normalize=True)\n",
    "    for score in scoringMethods:\n",
    "        X = originalDf[featureColumns]\n",
    "        y = originalDf[targetColumn]\n",
    "        clf = GridSearchCV(lm, parameters, cv=10, scoring=score)\n",
    "        clf.fit(X,y)\n",
    "        test_scores.append(clf.cv_results_['mean_test_score'])\n",
    "    return clf.best_estimator_, test_scores"
   ]
  },
  {
   "cell_type": "code",
   "execution_count": 208,
   "metadata": {
    "collapsed": true
   },
   "outputs": [],
   "source": [
    "def linearRegressionLasso(originalDf, targetColumn, featureColumns):\n",
    "    '''\n",
    "    Runs lasso regularized linear regression and returns the \n",
    "    mean and standard deviation of test scores\n",
    "    '''\n",
    "    parameters =  {'alpha' : np.arange(0.0001, 0.1, 0.01)}\n",
    "    scoringMethods = ['r2','neg_mean_squared_error']\n",
    "    test_scores = []\n",
    "    lm = linear_model.Lasso(normalize=True)\n",
    "    for score in scoringMethods:\n",
    "        X = originalDf[featureColumns]\n",
    "        y = originalDf[targetColumn]\n",
    "        clf = GridSearchCV(lm, parameters, cv=10, scoring=score)\n",
    "        clf.fit(X,y)\n",
    "        test_scores.append(clf.cv_results_['mean_test_score'])\n",
    "    return clf.best_estimator_, test_scores"
   ]
  },
  {
   "cell_type": "code",
   "execution_count": 209,
   "metadata": {
    "collapsed": true
   },
   "outputs": [],
   "source": [
    "def returnAttributesWithLargestCoefficients(training, testing, model):\n",
    "    '''\n",
    "    This methods takes in a model and a training testing. It fits\n",
    "    the model and then returns the attributes with their corresponding\n",
    "    coefficient, ordered from largest to smallest.\n",
    "    '''\n",
    "    model.fit(training, testing)\n",
    "    coefficients = model.coef_[0]\n",
    "    finalLst = []\n",
    "    attributes = list(training)\n",
    "    assert(len(attributes) == len(coefficients))\n",
    "    for i in range(len(attributes)):\n",
    "        finalLst.append([attributes[i], coefficients[i]])\n",
    "    finalLst.sort(key = lambda x: abs(x[1]), reverse=True)\n",
    "    return finalLst"
   ]
  },
  {
   "cell_type": "markdown",
   "metadata": {},
   "source": [
    "#### Let's first start with linear regression"
   ]
  },
  {
   "cell_type": "code",
   "execution_count": 210,
   "metadata": {
    "collapsed": true
   },
   "outputs": [],
   "source": [
    "######################## WITH GRADES ###############################"
   ]
  },
  {
   "cell_type": "code",
   "execution_count": 211,
   "metadata": {
    "collapsed": true
   },
   "outputs": [],
   "source": [
    "def runLinearRegression(df, targetColumn, featureColumns):\n",
    "    '''\n",
    "    This function runs all the linear regression models on the specific\n",
    "    dataset using specified target and feature columns and returns back\n",
    "    the scores as a list of tuples (a,b, c) where a corresponds to the model, \n",
    "    b corresponds to the R^2 scores and c corresponds to the mean squared errors\n",
    "    (over all runs).\n",
    "    '''\n",
    "    unregularized_lm, unregularized = linearRegression(df, targetColumn, featureColumns)\n",
    "    ridge_lm, ridge = linearRegressionRidge(df, targetColumn, featureColumns)\n",
    "    lasso_lm, lasso = linearRegressionLasso(df, targetColumn, featureColumns)\n",
    "    return [[unregularized_lm, unregularized['test_r2'], unregularized['test_neg_mean_squared_error']],\n",
    "            [ridge_lm, ridge[0], ridge[1]],\n",
    "            [lasso_lm, lasso[0], lasso[1]]]"
   ]
  },
  {
   "cell_type": "markdown",
   "metadata": {},
   "source": [
    "###### Portuguese \n"
   ]
  },
  {
   "cell_type": "markdown",
   "metadata": {},
   "source": [
    "###### WITH GRADES"
   ]
  },
  {
   "cell_type": "code",
   "execution_count": 212,
   "metadata": {
    "collapsed": true
   },
   "outputs": [],
   "source": [
    "unregularized, ridge, lasso = runLinearRegression(portTransformed, targetColumn, featureColumns)"
   ]
  },
  {
   "cell_type": "code",
   "execution_count": 213,
   "metadata": {
    "scrolled": true
   },
   "outputs": [
    {
     "name": "stdout",
     "output_type": "stream",
     "text": [
      "Unregularized accuracy: 0.80 (+/- 0.18)\n",
      "Unregularized accuracy: -1.80 (+/- 2.95)\n",
      "Ridge accuracy: 0.80 (+/- 0.00)\n",
      "Ridge accuracy: -1.79 (+/- 0.00)\n",
      "Lasso accuracy: 0.64 (+/- 0.36)\n",
      "Lasso accuracy: -3.50 (+/- 3.39)\n"
     ]
    }
   ],
   "source": [
    "print(\"Unregularized accuracy: %0.2f (+/- %0.2f)\" % (unregularized[1].mean(), unregularized[1].std() * 2))\n",
    "print(\"Unregularized accuracy: %0.2f (+/- %0.2f)\" % (unregularized[2].mean(), unregularized[2].std() * 2))\n",
    "print(\"Ridge accuracy: %0.2f (+/- %0.2f)\" % (ridge[1].mean(), ridge[1].std() * 2))\n",
    "print(\"Ridge accuracy: %0.2f (+/- %0.2f)\" % (ridge[2].mean(), ridge[2].std() * 2))\n",
    "print(\"Lasso accuracy: %0.2f (+/- %0.2f)\" % (lasso[1].mean(), lasso[1].std() * 2))\n",
    "print(\"Lasso accuracy: %0.2f (+/- %0.2f)\" % (lasso[2].mean(), lasso[2].std() * 2))"
   ]
  },
  {
   "cell_type": "code",
   "execution_count": 266,
   "metadata": {
    "collapsed": true
   },
   "outputs": [],
   "source": [
    "unregularized_coeffs = returnAttributesWithLargestCoefficients(portX, portY, unregularized[0])\n",
    "ridge_coeffs = returnAttributesWithLargestCoefficients(portX, portY, ridge[0])"
   ]
  },
  {
   "cell_type": "code",
   "execution_count": 267,
   "metadata": {},
   "outputs": [
    {
     "data": {
      "text/plain": [
       "[['G2', 0.87004156071805161],\n",
       " ['Fjob_at_home', 0.3729298101533205],\n",
       " ['failures', -0.25505230197670292],\n",
       " ['reason_other', -0.24828722125832287],\n",
       " ['higher', 0.20758855752928054],\n",
       " ['Mjob_health', 0.20315245237734117],\n",
       " ['guardian_other', 0.20041083177284333],\n",
       " ['school', -0.19796090031284919],\n",
       " ['paid', -0.19158305067981568],\n",
       " ['schoolsup', -0.18417552753028196],\n",
       " ['Fjob_teacher', -0.17060948871284845],\n",
       " ['Mjob_teacher', 0.15837018041962489],\n",
       " ['Mjob_other', -0.1561833946663356],\n",
       " ['traveltime', 0.13856144624437505],\n",
       " ['G1', 0.12960047102288239],\n",
       " ['sex', -0.1225952475055332],\n",
       " ['address', 0.11448048372067446],\n",
       " ['reason_course', 0.11348888586267286],\n",
       " ['Mjob_services', 0.10982432051947325],\n",
       " ['Fjob_services', -0.098306084113602865],\n",
       " ['Pstatus', -0.097410521062389357],\n",
       " ['nursery', -0.095609851057829445],\n",
       " ['famsup', 0.094543539489417142],\n",
       " ['Medu', -0.091646188364530812],\n",
       " ['internet', 0.085200512491937816],\n",
       " ['Fjob_health', -0.071233410529984109],\n",
       " ['Mjob_at_home', -0.062640545162575265],\n",
       " ['reason_reputation', -0.05580475784414804],\n",
       " ['health', -0.055239218323417702],\n",
       " ['Dalc', -0.051939902334540981],\n",
       " ['freetime', -0.050026423755034848],\n",
       " ['studytime', 0.049650627759748038],\n",
       " ['Fedu', 0.049613779627180894],\n",
       " ['romantic', -0.042177971922128452],\n",
       " ['guardian_mother', -0.042044420532954201],\n",
       " ['Fjob_other', 0.034885771493249042],\n",
       " ['reason_home', 0.034623194201244462],\n",
       " ['age', 0.028739971698653666],\n",
       " ['goout', -0.0189021151352705],\n",
       " ['Walc', -0.016943479161042919],\n",
       " ['guardian_father', -0.016927316757347304],\n",
       " ['famrel', -0.015917032118361468],\n",
       " ['famsize', 0.015609548150499348],\n",
       " ['absences', 0.013591099920528317],\n",
       " ['activities', 0.01207989461560208]]"
      ]
     },
     "execution_count": 267,
     "metadata": {},
     "output_type": "execute_result"
    }
   ],
   "source": [
    "ridge_coeffs"
   ]
  },
  {
   "cell_type": "code",
   "execution_count": 268,
   "metadata": {},
   "outputs": [
    {
     "data": {
      "image/png": "[encoded data removed]",
      "text/plain": [
       "<matplotlib.figure.Figure at 0x1ad52dff60>"
      ]
     },
     "metadata": {},
     "output_type": "display_data"
    }
   ],
   "source": [
    "x = []\n",
    "y = []\n",
    "for i in range(15)[::-1]:\n",
    "    x.append(ridge_coeffs[i][0])\n",
    "    y.append(abs(ridge_coeffs[i][1]))\n",
    "fig, ax = plt.subplots(1,1)\n",
    "plt.barh(range(len(y)), y, align='center')\n",
    "plt.title(\"Ridge absolute coefficients for Portuguese\")\n",
    "plt.yticks(range(len(y)), x)\n",
    "ax.grid(False)\n",
    "plt.savefig(\"Ridge_coefficients_port\")"
   ]
  },
  {
   "cell_type": "code",
   "execution_count": 217,
   "metadata": {},
   "outputs": [
    {
     "data": {
      "text/plain": [
       "<matplotlib.text.Text at 0x1ad4ac3a90>"
      ]
     },
     "execution_count": 217,
     "metadata": {},
     "output_type": "execute_result"
    },
    {
     "data": {
      "image/png": "[encoded data removed]",
      "text/plain": [
       "<matplotlib.figure.Figure at 0x1ad37cca20>"
      ]
     },
     "metadata": {},
     "output_type": "display_data"
    }
   ],
   "source": [
    "ax = sns.regplot(x=\"G2\", y=\"G3\", data=portTransformed, marker = '+')\n",
    "ax.grid(False)\n",
    "ax.set_title(\"G2 vs. G3 for Portuguese\")"
   ]
  },
  {
   "cell_type": "code",
   "execution_count": 218,
   "metadata": {},
   "outputs": [
    {
     "data": {
      "text/plain": [
       "<matplotlib.text.Text at 0x1ad1c62a58>"
      ]
     },
     "execution_count": 218,
     "metadata": {},
     "output_type": "execute_result"
    },
    {
     "data": {
      "image/png": "[encoded data removed]",
      "text/plain": [
       "<matplotlib.figure.Figure at 0x1ad3906be0>"
      ]
     },
     "metadata": {},
     "output_type": "display_data"
    }
   ],
   "source": [
    "ax = sns.regplot(x=\"G1\", y=\"G3\", data=portTransformed, marker = '+')\n",
    "ax.grid(False)\n",
    "ax.set_title(\"G1 vs. G3 for Portuguese\")"
   ]
  },
  {
   "cell_type": "code",
   "execution_count": 219,
   "metadata": {
    "collapsed": true
   },
   "outputs": [],
   "source": [
    "unregularized, ridge, lasso = runLinearRegression(portTransformed, ['G3'], ['G2', 'G1'])"
   ]
  },
  {
   "cell_type": "code",
   "execution_count": 220,
   "metadata": {},
   "outputs": [
    {
     "name": "stdout",
     "output_type": "stream",
     "text": [
      "FOR PORTUGUESE\n",
      "With just G1, G2: Unregularized accuracy: 0.83 (+/- 0.19)\n",
      "With just G1, G2: Unregularized accuracy: -1.63 (+/- 2.80)\n"
     ]
    }
   ],
   "source": [
    "print(\"FOR PORTUGUESE\")\n",
    "print(\"With just G1, G2: Unregularized accuracy: %0.2f (+/- %0.2f)\" % (unregularized[1].mean(), unregularized[1].std() * 2))\n",
    "print(\"With just G1, G2: Unregularized accuracy: %0.2f (+/- %0.2f)\" % (unregularized[2].mean(), unregularized[2].std() * 2))"
   ]
  },
  {
   "cell_type": "markdown",
   "metadata": {},
   "source": [
    "Clearly, using previous grades is ideal."
   ]
  },
  {
   "cell_type": "markdown",
   "metadata": {},
   "source": [
    "###### WITHOUT GRADES"
   ]
  },
  {
   "cell_type": "code",
   "execution_count": 221,
   "metadata": {
    "collapsed": true
   },
   "outputs": [],
   "source": [
    "unregularized, ridge, lasso = runLinearRegression(portTransformed, targetColumn, featureColumnsNoGrades)"
   ]
  },
  {
   "cell_type": "code",
   "execution_count": 222,
   "metadata": {},
   "outputs": [
    {
     "name": "stdout",
     "output_type": "stream",
     "text": [
      "PORTUGUESE WITHOUT GRADES\n",
      "Unregularized accuracy: 0.12 (+/- 0.33)\n",
      "Unregularized accuracy: -7.99 (+/- 11.24)\n",
      "Ridge accuracy: 0.12 (+/- 0.00)\n",
      "Ridge accuracy: -7.96 (+/- 0.00)\n",
      "Lasso accuracy: -0.07 (+/- 0.25)\n",
      "Lasso accuracy: -9.73 (+/- 2.22)\n"
     ]
    }
   ],
   "source": [
    "print(\"PORTUGUESE WITHOUT GRADES\")\n",
    "print(\"Unregularized accuracy: %0.2f (+/- %0.2f)\" % (unregularized[1].mean(), unregularized[1].std() * 2))\n",
    "print(\"Unregularized accuracy: %0.2f (+/- %0.2f)\" % (unregularized[2].mean(), unregularized[2].std() * 2))\n",
    "print(\"Ridge accuracy: %0.2f (+/- %0.2f)\" % (ridge[1].mean(), ridge[1].std() * 2))\n",
    "print(\"Ridge accuracy: %0.2f (+/- %0.2f)\" % (ridge[2].mean(), ridge[2].std() * 2))\n",
    "print(\"Lasso accuracy: %0.2f (+/- %0.2f)\" % (lasso[1].mean(), lasso[1].std() * 2))\n",
    "print(\"Lasso accuracy: %0.2f (+/- %0.2f)\" % (lasso[2].mean(), lasso[2].std() * 2))"
   ]
  },
  {
   "cell_type": "code",
   "execution_count": 223,
   "metadata": {
    "collapsed": true
   },
   "outputs": [],
   "source": [
    "unregularized_coeffs = returnAttributesWithLargestCoefficients(portXNoGrades, portY, unregularized[0])\n",
    "ridge_coeffs = returnAttributesWithLargestCoefficients(portXNoGrades, portY, ridge[0])"
   ]
  },
  {
   "cell_type": "code",
   "execution_count": 224,
   "metadata": {},
   "outputs": [
    {
     "data": {
      "text/plain": [
       "[['higher', 1.7328765287361148],\n",
       " ['failures', -1.4120621054676321],\n",
       " ['schoolsup', -1.3109982195017345],\n",
       " ['school', -1.2001853539917173],\n",
       " ['Fjob_teacher', 0.85783472669252214],\n",
       " ['Mjob_health', 0.63821269028633831],\n",
       " ['sex', -0.63298676210997673],\n",
       " ['reason_other', -0.43990811185855311],\n",
       " ['romantic', -0.43150585026470323],\n",
       " ['studytime', 0.40666714833249296],\n",
       " ['paid', -0.37160241873688082],\n",
       " ['Fjob_services', -0.36511228282541186],\n",
       " ['Fjob_health', -0.33390891081718538],\n",
       " ['address', 0.32272416140131405],\n",
       " ['famsize', 0.30249743548262031],\n",
       " ['Fjob_at_home', 0.2781652440130899],\n",
       " ['Mjob_at_home', -0.26312860379398945],\n",
       " ['internet', 0.25289442333625328],\n",
       " ['guardian_other', 0.24909569889456928],\n",
       " ['Mjob_teacher', 0.24864828599819458],\n",
       " ['activities', 0.21912490014928773],\n",
       " ['nursery', -0.21601977807450273],\n",
       " ['reason_reputation', 0.21276411524796573],\n",
       " ['Mjob_other', -0.21273084881721113],\n",
       " ['Dalc', -0.20478231802135372],\n",
       " ['guardian_mother', -0.19428656994427515],\n",
       " ['health', -0.1874220766541434],\n",
       " ['Pstatus', 0.17685922764438922],\n",
       " ['Fedu', 0.16683731106785613],\n",
       " ['famrel', 0.16153464284152544],\n",
       " ['Mjob_services', 0.15734079095711923],\n",
       " ['age', 0.15611348002937742],\n",
       " ['guardian_father', 0.144162686425028],\n",
       " ['freetime', -0.13777585970326087],\n",
       " ['Fjob_other', 0.093853849240041781],\n",
       " ['Walc', -0.081495069655284469],\n",
       " ['goout', -0.066051030114036305],\n",
       " ['traveltime', 0.062464277772071634],\n",
       " ['reason_home', 0.045577511093331309],\n",
       " ['absences', -0.038063002315971893],\n",
       " ['Medu', 0.035318419396375193],\n",
       " ['famsup', -0.020360834401110965],\n",
       " ['reason_course', -0.0049659516923299205]]"
      ]
     },
     "execution_count": 224,
     "metadata": {},
     "output_type": "execute_result"
    }
   ],
   "source": [
    "ridge_coeffs"
   ]
  },
  {
   "cell_type": "code",
   "execution_count": 225,
   "metadata": {},
   "outputs": [
    {
     "data": {
      "image/png": "[encoded data removed]",
      "text/plain": [
       "<matplotlib.figure.Figure at 0x1ad4a1db38>"
      ]
     },
     "metadata": {},
     "output_type": "display_data"
    }
   ],
   "source": [
    "x = []\n",
    "y = []\n",
    "for i in range(15)[::-1]:\n",
    "    x.append(ridge_coeffs[i][0])\n",
    "    y.append(abs(ridge_coeffs[i][1]))\n",
    "fig, ax = plt.subplots(1,1)\n",
    "plt.barh(range(len(y)), y, align='center')\n",
    "plt.title(\"Absolute coefficients for Portuguese\")\n",
    "plt.yticks(range(len(y)), x)\n",
    "ax.grid(False)"
   ]
  },
  {
   "cell_type": "markdown",
   "metadata": {},
   "source": [
    "###### Math"
   ]
  },
  {
   "cell_type": "markdown",
   "metadata": {},
   "source": [
    "###### WITH GRADES"
   ]
  },
  {
   "cell_type": "code",
   "execution_count": 226,
   "metadata": {
    "collapsed": true
   },
   "outputs": [],
   "source": [
    "unregularized, ridge, lasso = runLinearRegression(mathTransformed, targetColumn, featureColumns)"
   ]
  },
  {
   "cell_type": "code",
   "execution_count": 227,
   "metadata": {
    "scrolled": true
   },
   "outputs": [
    {
     "name": "stdout",
     "output_type": "stream",
     "text": [
      "Unregularized accuracy: 0.78 (+/- 0.16)\n",
      "Unregularized accuracy: -4.33 (+/- 4.30)\n",
      "Ridge accuracy: 0.78 (+/- 0.00)\n",
      "Ridge accuracy: -4.31 (+/- 0.00)\n",
      "Lasso accuracy: 0.76 (+/- 0.09)\n",
      "Lasso accuracy: -4.92 (+/- 1.93)\n"
     ]
    }
   ],
   "source": [
    "print(\"Unregularized accuracy: %0.2f (+/- %0.2f)\" % (unregularized[1].mean(), unregularized[1].std() * 2))\n",
    "print(\"Unregularized accuracy: %0.2f (+/- %0.2f)\" % (unregularized[2].mean(), unregularized[2].std() * 2))\n",
    "print(\"Ridge accuracy: %0.2f (+/- %0.2f)\" % (ridge[1].mean(), ridge[1].std() * 2))\n",
    "print(\"Ridge accuracy: %0.2f (+/- %0.2f)\" % (ridge[2].mean(), ridge[2].std() * 2))\n",
    "print(\"Lasso accuracy: %0.2f (+/- %0.2f)\" % (lasso[1].mean(), lasso[1].std() * 2))\n",
    "print(\"Lasso accuracy: %0.2f (+/- %0.2f)\" % (lasso[2].mean(), lasso[2].std() * 2))"
   ]
  },
  {
   "cell_type": "code",
   "execution_count": 228,
   "metadata": {
    "collapsed": true
   },
   "outputs": [],
   "source": [
    "unregularized_coeffs = returnAttributesWithLargestCoefficients(mathX, mathY, unregularized[0])\n",
    "ridge_coeffs = returnAttributesWithLargestCoefficients(mathX, mathY, ridge[0])"
   ]
  },
  {
   "cell_type": "code",
   "execution_count": 229,
   "metadata": {},
   "outputs": [
    {
     "data": {
      "text/plain": [
       "[['G2', 0.95697494216231316],\n",
       " ['school', 0.48067859180334116],\n",
       " ['Fjob_health', 0.46059250958335068],\n",
       " ['schoolsup', 0.45656154604485027],\n",
       " ['famrel', 0.35677335806260868],\n",
       " ['activities', -0.3459828358685586],\n",
       " ['reason_other', 0.29522896725798131],\n",
       " ['romantic', -0.27220670882275505],\n",
       " ['higher', 0.22589743598688172],\n",
       " ['nursery', -0.22268623847465085],\n",
       " ['reason_home', -0.22165995405143152],\n",
       " ['Fjob_services', -0.19230307838025448],\n",
       " ['G1', 0.18915999921614898],\n",
       " ['Dalc', -0.18494463030526107],\n",
       " ['famsup', 0.1768283521347262],\n",
       " ['Walc', 0.17675062916400994],\n",
       " ['sex', 0.17442411572728347],\n",
       " ['age', -0.17331231647888332],\n",
       " ['Mjob_health', -0.16126974419516302],\n",
       " ['failures', -0.16059873613053549],\n",
       " ['internet', -0.14429961794684046],\n",
       " ['Fedu', -0.13392959817906941],\n",
       " ['Medu', 0.12970163711405563],\n",
       " ['Fjob_at_home', 0.12942649442757442],\n",
       " ['Pstatus', -0.12782047983191153],\n",
       " ['reason_reputation', 0.11656294110541268],\n",
       " ['studytime', -0.10474078517229632],\n",
       " ['guardian_mother', 0.10459013929646019],\n",
       " ['address', 0.10452830466684646],\n",
       " ['traveltime', 0.096877036677470607],\n",
       " ['guardian_father', -0.091084476422278293],\n",
       " ['guardian_other', -0.084642760123155247],\n",
       " ['paid', 0.07590008979492302],\n",
       " ['health', 0.062964347728765316],\n",
       " ['Mjob_other', 0.059230754408452158],\n",
       " ['freetime', 0.046996793799238726],\n",
       " ['Fjob_other', 0.046178780332138833],\n",
       " ['absences', 0.04587219474874478],\n",
       " ['Mjob_teacher', -0.041309472644258542],\n",
       " ['famsize', 0.03658957038976033],\n",
       " ['Mjob_services', 0.032028590215661165],\n",
       " ['Fjob_teacher', 0.017164235507369736],\n",
       " ['Mjob_at_home', -0.015018277095948468],\n",
       " ['reason_course', -0.012547677841942318],\n",
       " ['goout', 0.011948139188264156]]"
      ]
     },
     "execution_count": 229,
     "metadata": {},
     "output_type": "execute_result"
    }
   ],
   "source": [
    "ridge_coeffs"
   ]
  },
  {
   "cell_type": "code",
   "execution_count": 230,
   "metadata": {},
   "outputs": [
    {
     "data": {
      "image/png": "[encoded data removed]",
      "text/plain": [
       "<matplotlib.figure.Figure at 0x1ad36f2f28>"
      ]
     },
     "metadata": {},
     "output_type": "display_data"
    }
   ],
   "source": [
    "x = []\n",
    "y = []\n",
    "for i in range(15)[::-1]:\n",
    "    x.append(ridge_coeffs[i][0])\n",
    "    y.append(abs(ridge_coeffs[i][1]))\n",
    "fig, ax = plt.subplots(1,1)\n",
    "plt.barh(range(len(y)), y, align='center')\n",
    "plt.title(\"Ridge absolute coefficients for Math\")\n",
    "plt.yticks(range(len(y)), x)\n",
    "ax.grid(False)"
   ]
  },
  {
   "cell_type": "code",
   "execution_count": 231,
   "metadata": {},
   "outputs": [
    {
     "data": {
      "text/plain": [
       "<matplotlib.text.Text at 0x1ad4f84be0>"
      ]
     },
     "execution_count": 231,
     "metadata": {},
     "output_type": "execute_result"
    },
    {
     "data": {
      "image/png": "[encoded data removed]",
      "text/plain": [
       "<matplotlib.figure.Figure at 0x1ad4a293c8>"
      ]
     },
     "metadata": {},
     "output_type": "display_data"
    }
   ],
   "source": [
    "ax = sns.regplot(x=\"G2\", y=\"G3\", data=mathTransformed, marker = '+')\n",
    "ax.grid(False)\n",
    "ax.set_title(\"G2 vs. G3 for Math\")"
   ]
  },
  {
   "cell_type": "code",
   "execution_count": 232,
   "metadata": {},
   "outputs": [
    {
     "data": {
      "text/plain": [
       "<matplotlib.text.Text at 0x1ad1d196a0>"
      ]
     },
     "execution_count": 232,
     "metadata": {},
     "output_type": "execute_result"
    },
    {
     "data": {
      "image/png": "[encoded data removed]",
      "text/plain": [
       "<matplotlib.figure.Figure at 0x1ad4f04fd0>"
      ]
     },
     "metadata": {},
     "output_type": "display_data"
    }
   ],
   "source": [
    "ax = sns.regplot(x=\"G1\", y=\"G3\", data=mathTransformed, marker = '+')\n",
    "ax.grid(False)\n",
    "ax.set_title(\"G1 vs. G3 for Math\")"
   ]
  },
  {
   "cell_type": "code",
   "execution_count": 233,
   "metadata": {
    "collapsed": true
   },
   "outputs": [],
   "source": [
    "unregularized, ridge, lasso = runLinearRegression(mathTransformed, ['G3'], ['G2', 'G1'])"
   ]
  },
  {
   "cell_type": "code",
   "execution_count": 234,
   "metadata": {},
   "outputs": [
    {
     "name": "stdout",
     "output_type": "stream",
     "text": [
      "FOR MATH\n",
      "With just G1, G2: Unregularized accuracy: 0.81 (+/- 0.18)\n",
      "With just G1, G2: Unregularized accuracy: -3.82 (+/- 4.92)\n"
     ]
    }
   ],
   "source": [
    "print(\"FOR MATH\")\n",
    "print(\"With just G1, G2: Unregularized accuracy: %0.2f (+/- %0.2f)\" % (unregularized[1].mean(), unregularized[1].std() * 2))\n",
    "print(\"With just G1, G2: Unregularized accuracy: %0.2f (+/- %0.2f)\" % (unregularized[2].mean(), unregularized[2].std() * 2))"
   ]
  },
  {
   "cell_type": "markdown",
   "metadata": {},
   "source": [
    "Clearly, using previous grades is ideal."
   ]
  },
  {
   "cell_type": "markdown",
   "metadata": {},
   "source": [
    "###### WITHOUT GRADES"
   ]
  },
  {
   "cell_type": "code",
   "execution_count": 269,
   "metadata": {
    "collapsed": true
   },
   "outputs": [],
   "source": [
    "unregularized, ridge, lasso = runLinearRegression(mathTransformed, targetColumn, featureColumnsNoGrades)"
   ]
  },
  {
   "cell_type": "code",
   "execution_count": 270,
   "metadata": {},
   "outputs": [
    {
     "name": "stdout",
     "output_type": "stream",
     "text": [
      "MATH WITHOUT GRADES\n",
      "Unregularized accuracy: -0.00 (+/- 0.27)\n",
      "Unregularized accuracy: -19.93 (+/- 16.53)\n",
      "Ridge accuracy: -0.00 (+/- 0.00)\n",
      "Ridge accuracy: -19.91 (+/- 0.00)\n",
      "Lasso accuracy: -0.01 (+/- 0.09)\n",
      "Lasso accuracy: -19.85 (+/- 1.59)\n"
     ]
    }
   ],
   "source": [
    "print(\"MATH WITHOUT GRADES\")\n",
    "print(\"Unregularized accuracy: %0.2f (+/- %0.2f)\" % (unregularized[1].mean(), unregularized[1].std() * 2))\n",
    "print(\"Unregularized accuracy: %0.2f (+/- %0.2f)\" % (unregularized[2].mean(), unregularized[2].std() * 2))\n",
    "print(\"Ridge accuracy: %0.2f (+/- %0.2f)\" % (ridge[1].mean(), ridge[1].std() * 2))\n",
    "print(\"Ridge accuracy: %0.2f (+/- %0.2f)\" % (ridge[2].mean(), ridge[2].std() * 2))\n",
    "print(\"Lasso accuracy: %0.2f (+/- %0.2f)\" % (lasso[1].mean(), lasso[1].std() * 2))\n",
    "print(\"Lasso accuracy: %0.2f (+/- %0.2f)\" % (lasso[2].mean(), lasso[2].std() * 2))"
   ]
  },
  {
   "cell_type": "code",
   "execution_count": 237,
   "metadata": {
    "collapsed": true
   },
   "outputs": [],
   "source": [
    "unregularized_coeffs = returnAttributesWithLargestCoefficients(mathXNoGrades, mathY, unregularized[0])\n",
    "ridge_coeffs = returnAttributesWithLargestCoefficients(mathXNoGrades, mathY, ridge[0])"
   ]
  },
  {
   "cell_type": "code",
   "execution_count": 238,
   "metadata": {},
   "outputs": [
    {
     "data": {
      "text/plain": [
       "[['failures', -1.7237843879874786],\n",
       " ['Fjob_teacher', 1.5592305629043615],\n",
       " ['higher', 1.3704919551464967],\n",
       " ['schoolsup', -1.3504358528570712],\n",
       " ['sex', 1.2621970820858204],\n",
       " ['Mjob_teacher', -1.1979540772492012],\n",
       " ['romantic', -1.0943606326722355],\n",
       " ['Mjob_health', 1.0412454359619634],\n",
       " ['famsup', -0.8617372257798025],\n",
       " ['school', 0.72529799562643271],\n",
       " ['famsize', 0.70273245348276303],\n",
       " ['Mjob_services', 0.70141560725574459],\n",
       " ['guardian_other', 0.5972834123458195],\n",
       " ['goout', -0.59356935621193829],\n",
       " ['Fjob_health', 0.58088568446694688],\n",
       " ['address', 0.55129698501282076],\n",
       " ['studytime', 0.54942704743234794],\n",
       " ['internet', 0.49807794063035826],\n",
       " ['reason_other', 0.49589163168434763],\n",
       " ['Medu', 0.45671986243619839],\n",
       " ['Fjob_other', -0.38617731711257108],\n",
       " ['age', -0.37508400824481636],\n",
       " ['paid', 0.33973035277571406],\n",
       " ['reason_reputation', 0.33183758101388594],\n",
       " ['activities', -0.32948743342620462],\n",
       " ['Pstatus', -0.32014695646196939],\n",
       " ['Mjob_other', -0.31588375657840595],\n",
       " ['freetime', 0.30235323179978135],\n",
       " ['reason_course', -0.28123094362621603],\n",
       " ['Dalc', -0.27209472046922784],\n",
       " ['Walc', 0.26324219811366845],\n",
       " ['traveltime', -0.24025095245603156],\n",
       " ['Fjob_at_home', 0.23330356201548655],\n",
       " ['Fjob_services', -0.23235804822723896],\n",
       " ['famrel', 0.2315220573870361],\n",
       " ['reason_home', -0.20269250282794626],\n",
       " ['nursery', -0.17729194113609806],\n",
       " ['health', -0.17676580653155474],\n",
       " ['guardian_father', -0.15241546849495671],\n",
       " ['Fedu', -0.10445992604537872],\n",
       " ['guardian_mother', -0.082694995129072579],\n",
       " ['absences', 0.056282108693089278],\n",
       " ['Mjob_at_home', 0.042990767024066713]]"
      ]
     },
     "execution_count": 238,
     "metadata": {},
     "output_type": "execute_result"
    }
   ],
   "source": [
    "ridge_coeffs"
   ]
  },
  {
   "cell_type": "code",
   "execution_count": 239,
   "metadata": {},
   "outputs": [
    {
     "data": {
      "image/png": "[encoded data removed]",
      "text/plain": [
       "<matplotlib.figure.Figure at 0x1ad4f24a58>"
      ]
     },
     "metadata": {},
     "output_type": "display_data"
    }
   ],
   "source": [
    "x = []\n",
    "y = []\n",
    "for i in range(15)[::-1]:\n",
    "    x.append(ridge_coeffs[i][0])\n",
    "    y.append(abs(ridge_coeffs[i][1]))\n",
    "fig, ax = plt.subplots(1,1)\n",
    "plt.barh(range(len(y)), y, align='center')\n",
    "plt.title(\"Absolute coefficients for math\")\n",
    "plt.yticks(range(len(y)), x)\n",
    "ax.grid(False)"
   ]
  },
  {
   "cell_type": "code",
   "execution_count": 240,
   "metadata": {
    "collapsed": true
   },
   "outputs": [],
   "source": [
    "#########################################################################################################################"
   ]
  },
  {
   "cell_type": "markdown",
   "metadata": {},
   "source": [
    "#### Let's now do SVM"
   ]
  },
  {
   "cell_type": "code",
   "execution_count": 241,
   "metadata": {},
   "outputs": [],
   "source": [
    "from sklearn.svm import SVR"
   ]
  },
  {
   "cell_type": "code",
   "execution_count": 242,
   "metadata": {
    "collapsed": true
   },
   "outputs": [],
   "source": [
    "def SVM(originalDf, targetColumn, featureColumns):\n",
    "    '''\n",
    "    Runs ridge regularized linear regression and returns the \n",
    "    mean and standard deviation of test scores\n",
    "    '''\n",
    "    parameters = {'C' : np.arange(0.1, 10, .5)}\n",
    "    test_scores = []\n",
    "    X = originalDf[featureColumns]\n",
    "    y = np.ravel(originalDf[targetColumn])\n",
    "    svr = SVR()\n",
    "    scoringMethods = ['r2','neg_mean_squared_error']\n",
    "    for score in scoringMethods:\n",
    "        clf = GridSearchCV(svr, parameters, cv=10, scoring=score)\n",
    "        clf.fit(X,y)\n",
    "        test_scores.append(clf.cv_results_['mean_test_score'])\n",
    "    return clf.best_estimator_, test_scores"
   ]
  },
  {
   "cell_type": "code",
   "execution_count": 243,
   "metadata": {
    "collapsed": true
   },
   "outputs": [],
   "source": [
    "######################## WITH GRADES ###############################"
   ]
  },
  {
   "cell_type": "markdown",
   "metadata": {},
   "source": [
    "###### Portuguese \n"
   ]
  },
  {
   "cell_type": "markdown",
   "metadata": {},
   "source": [
    "###### WITH GRADES"
   ]
  },
  {
   "cell_type": "code",
   "execution_count": 244,
   "metadata": {},
   "outputs": [
    {
     "name": "stdout",
     "output_type": "stream",
     "text": [
      "SVM accuracy: 0.74 (+/- 0.10)\n",
      "SVM accuracy: -2.50 (+/- 1.21)\n"
     ]
    }
   ],
   "source": [
    "results = SVM(portTransformed, targetColumn, featureColumns)[1]\n",
    "print(\"SVM accuracy: %0.2f (+/- %0.2f)\" % (results[0].mean(), results[0].std() * 2))\n",
    "print(\"SVM accuracy: %0.2f (+/- %0.2f)\" % (results[1].mean(), results[1].std() * 2))"
   ]
  },
  {
   "cell_type": "markdown",
   "metadata": {},
   "source": [
    "Clearly, using previous grades is ideal."
   ]
  },
  {
   "cell_type": "markdown",
   "metadata": {},
   "source": [
    "###### WITHOUT GRADES"
   ]
  },
  {
   "cell_type": "code",
   "execution_count": 272,
   "metadata": {},
   "outputs": [
    {
     "name": "stdout",
     "output_type": "stream",
     "text": [
      "SVM accuracy: 0.06 (+/- 0.05)\n",
      "SVM accuracy: -8.42 (+/- 0.50)\n"
     ]
    }
   ],
   "source": [
    "results = SVM(portTransformed, targetColumn, featureColumnsNoGrades)[1]\n",
    "print(\"SVM accuracy: %0.2f (+/- %0.2f)\" % (results[0].mean(), results[0].std() * 2))\n",
    "print(\"SVM accuracy: %0.2f (+/- %0.2f)\" % (results[1].mean(), results[1].std() * 2))"
   ]
  },
  {
   "cell_type": "code",
   "execution_count": 275,
   "metadata": {},
   "outputs": [],
   "source": [
    "results = SVM(portTransformed, targetColumn, featureColumnsNoGrades)[0]"
   ]
  },
  {
   "cell_type": "markdown",
   "metadata": {},
   "source": [
    "###### Math\n"
   ]
  },
  {
   "cell_type": "markdown",
   "metadata": {},
   "source": [
    "###### WITH GRADES"
   ]
  },
  {
   "cell_type": "code",
   "execution_count": 277,
   "metadata": {},
   "outputs": [
    {
     "name": "stdout",
     "output_type": "stream",
     "text": [
      "SVM accuracy: 0.78 (+/- 0.20)\n",
      "SVM accuracy: -4.49 (+/- 4.43)\n"
     ]
    }
   ],
   "source": [
    "results = SVM(mathTransformed, targetColumn, featureColumns)[1]\n",
    "print(\"SVM accuracy: %0.2f (+/- %0.2f)\" % (results[0].mean(), results[0].std() * 2))\n",
    "print(\"SVM accuracy: %0.2f (+/- %0.2f)\" % (results[1].mean(), results[1].std() * 2))"
   ]
  },
  {
   "cell_type": "markdown",
   "metadata": {},
   "source": [
    "Clearly, using previous grades is ideal."
   ]
  },
  {
   "cell_type": "markdown",
   "metadata": {},
   "source": [
    "###### WITHOUT GRADES"
   ]
  },
  {
   "cell_type": "code",
   "execution_count": 278,
   "metadata": {},
   "outputs": [
    {
     "name": "stdout",
     "output_type": "stream",
     "text": [
      "SVM accuracy: 0.06 (+/- 0.05)\n",
      "SVM accuracy: -18.60 (+/- 1.25)\n"
     ]
    }
   ],
   "source": [
    "results = SVM(mathTransformed, targetColumn, featureColumnsNoGrades)[1]\n",
    "print(\"SVM accuracy: %0.2f (+/- %0.2f)\" % (results[0].mean(), results[0].std() * 2))\n",
    "print(\"SVM accuracy: %0.2f (+/- %0.2f)\" % (results[1].mean(), results[1].std() * 2))"
   ]
  },
  {
   "cell_type": "code",
   "execution_count": null,
   "metadata": {
    "collapsed": true
   },
   "outputs": [],
   "source": []
  }
 ],
 "metadata": {
  "kernelspec": {
   "display_name": "Python 3",
   "language": "python",
   "name": "python3"
  },
  "language_info": {
   "codemirror_mode": {
    "name": "ipython",
    "version": 3
   },
   "file_extension": ".py",
   "mimetype": "text/x-python",
   "name": "python",
   "nbconvert_exporter": "python",
   "pygments_lexer": "ipython3",
   "version": "3.6.1"
  }
 },
 "nbformat": 4,
 "nbformat_minor": 2
}
