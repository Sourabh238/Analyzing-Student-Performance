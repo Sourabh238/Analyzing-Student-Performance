{
 "cells": [
  {
   "cell_type": "code",
   "execution_count": 166,
   "metadata": {
    "collapsed": true
   },
   "outputs": [],
   "source": [
    "import pandas as pd\n",
    "import numpy as np\n",
    "sns.set(style=\"whitegrid\")\n",
    "sns.set_color_codes(\"pastel\")\n",
    "%matplotlib inline\n",
    "from scipy.stats.stats import pearsonr"
   ]
  },
  {
   "cell_type": "code",
   "execution_count": 167,
   "metadata": {
    "collapsed": true
   },
   "outputs": [],
   "source": [
    "math = pd.read_csv('math.csv')\n",
    "port = pd.read_csv('port.csv')"
   ]
  },
  {
   "cell_type": "code",
   "execution_count": 168,
   "metadata": {
    "collapsed": true
   },
   "outputs": [],
   "source": [
    "# Dropping the first column of ID numbers\n",
    "del[math['Unnamed: 0']]\n",
    "del[port['Unnamed: 0']]"
   ]
  },
  {
   "cell_type": "code",
   "execution_count": 169,
   "metadata": {
    "collapsed": true
   },
   "outputs": [],
   "source": [
    "# This will be our transformed dataframes\n",
    "mathTransformed = math.copy(deep=True)\n",
    "portTransformed = port.copy(deep=True)"
   ]
  },
  {
   "cell_type": "code",
   "execution_count": 170,
   "metadata": {
    "collapsed": true
   },
   "outputs": [],
   "source": [
    "def returnCategoricalColumns(df):\n",
    "    '''\n",
    "    This function takes in a dataframe and returns the \n",
    "    column names which are categorical / must be labeled\n",
    "    numerically for training.\n",
    "    '''\n",
    "    columns = []\n",
    "    for i in list(df):\n",
    "        if not str(math[i][0]).isdigit():\n",
    "            columns.append(i)\n",
    "    return columns    "
   ]
  },
  {
   "cell_type": "code",
   "execution_count": 171,
   "metadata": {
    "collapsed": true
   },
   "outputs": [],
   "source": [
    "def getBinaryAndNominalColumns(df, categoricalColumns):\n",
    "    '''\n",
    "    This function takes a list of categorical columns\n",
    "    and separates into a list of binary columns, which\n",
    "    we can easily one label encode into 0/1 and \n",
    "    nominal columns which we will need to one hot vector\n",
    "    encode.\n",
    "    '''\n",
    "    binary = []\n",
    "    nominal = []\n",
    "    for i in categoricalColumns:\n",
    "        if len(list(set(df[i]))) == 2:\n",
    "            binary.append(i)\n",
    "        else:\n",
    "            nominal.append(i)\n",
    "    return binary, nominal"
   ]
  },
  {
   "cell_type": "code",
   "execution_count": 172,
   "metadata": {},
   "outputs": [
    {
     "name": "stdout",
     "output_type": "stream",
     "text": [
      "['school', 'sex', 'address', 'famsize', 'Pstatus', 'Mjob', 'Fjob', 'reason', 'guardian', 'schoolsup', 'famsup', 'paid', 'activities', 'nursery', 'higher', 'internet', 'romantic']\n"
     ]
    }
   ],
   "source": [
    "# categorical columns are the same for both port and math\n",
    "assert(returnCategoricalColumns(math) == returnCategoricalColumns(port))\n",
    "categoricalColumns = returnCategoricalColumns(math)\n",
    "print(categoricalColumns)"
   ]
  },
  {
   "cell_type": "code",
   "execution_count": 173,
   "metadata": {},
   "outputs": [
    {
     "name": "stdout",
     "output_type": "stream",
     "text": [
      "['school', 'sex', 'address', 'famsize', 'Pstatus', 'schoolsup', 'famsup', 'paid', 'activities', 'nursery', 'higher', 'internet', 'romantic']\n",
      "['Mjob', 'Fjob', 'reason', 'guardian']\n"
     ]
    }
   ],
   "source": [
    "binary, nominal = getBinaryAndNominalColumns(math, categoricalColumns)\n",
    "print(binary)\n",
    "print(nominal)"
   ]
  },
  {
   "cell_type": "code",
   "execution_count": 174,
   "metadata": {
    "collapsed": true
   },
   "outputs": [],
   "source": [
    "def convertBinaryColumns(df, binary, transformed_df):\n",
    "    '''\n",
    "    This function converts the binary columns in our dataframe\n",
    "    into numerical (0/1) labels and adds a corresponding\n",
    "    column to transformed_df\n",
    "    '''\n",
    "    for i in binary:\n",
    "        lb_style = LabelBinarizer()\n",
    "        lb_results = lb_style.fit_transform(df[i])\n",
    "        transformed_df[i] = lb_results"
   ]
  },
  {
   "cell_type": "code",
   "execution_count": 175,
   "metadata": {
    "collapsed": true
   },
   "outputs": [],
   "source": [
    "convertBinaryColumns(math, binary, mathTransformed)\n",
    "convertBinaryColumns(port, binary, portTransformed)"
   ]
  },
  {
   "cell_type": "code",
   "execution_count": 176,
   "metadata": {
    "collapsed": true
   },
   "outputs": [],
   "source": [
    "assert(list(portTransformed) == list(port))\n",
    "assert(list(mathTransformed) == list(math))"
   ]
  },
  {
   "cell_type": "code",
   "execution_count": 177,
   "metadata": {
    "collapsed": true
   },
   "outputs": [],
   "source": [
    "# One hot vector encode nominal variables\n",
    "mathTransformed = pd.get_dummies(mathTransformed, columns=nominal)\n",
    "portTransformed = pd.get_dummies(portTransformed, columns=nominal)"
   ]
  },
  {
   "cell_type": "code",
   "execution_count": 178,
   "metadata": {
    "collapsed": true
   },
   "outputs": [],
   "source": [
    "assert(list(portTransformed) == list(mathTransformed))"
   ]
  },
  {
   "cell_type": "code",
   "execution_count": 179,
   "metadata": {
    "collapsed": true
   },
   "outputs": [],
   "source": [
    "for i in list(mathTransformed):\n",
    "    if not str(mathTransformed[i][0]).isdigit() or not str(portTransformed[i][0]).isdigit():\n",
    "        assert(False)"
   ]
  },
  {
   "cell_type": "code",
   "execution_count": 180,
   "metadata": {
    "collapsed": true
   },
   "outputs": [],
   "source": [
    "def returnMissingRows(df, columns_to_search):\n",
    "    '''\n",
    "    This function looks for 0's (NaNs) in the columns_to_search\n",
    "    to look for missing values. Returns the missing values and \n",
    "    a set of the rows containing the missing values.\n",
    "    '''\n",
    "    countMissing = 0\n",
    "    missingRows = set()\n",
    "    for i in range(len(df[columns_to_search[0]])):\n",
    "        for col in columns_to_search:\n",
    "            if (df[col][i] == 0):\n",
    "                countMissing += 1\n",
    "                missingRows.add(i)\n",
    "                break\n",
    "    return countMissing, missingRows"
   ]
  },
  {
   "cell_type": "code",
   "execution_count": 181,
   "metadata": {},
   "outputs": [
    {
     "name": "stdout",
     "output_type": "stream",
     "text": [
      "Total number of missing datapoints (math): 38. The corresponding rows of which are \n",
      "{128, 130, 131, 259, 387, 134, 135, 136, 137, 264, 389, 140, 269, 144, 146, 148, 150, 153, 160, 162, 168, 296, 170, 173, 310, 316, 332, 333, 334, 337, 341, 343, 221, 239, 367, 242, 244, 383}\n"
     ]
    }
   ],
   "source": [
    "missing = returnMissingRows(mathTransformed, ['G1', 'G2', 'G3'])\n",
    "print(\"Total number of missing datapoints (math): \" + str(missing[0]) + \". The corresponding rows of which are \")\n",
    "print(missing[1])"
   ]
  },
  {
   "cell_type": "code",
   "execution_count": 182,
   "metadata": {},
   "outputs": [
    {
     "name": "stdout",
     "output_type": "stream",
     "text": [
      "Total number of missing datapoints for G1 (math): 0. The corresponding rows of which are \n",
      "set()\n"
     ]
    }
   ],
   "source": [
    "missing = returnMissingRows(mathTransformed, ['G1'])\n",
    "print(\"Total number of missing datapoints for G1 (math): \" + str(missing[0]) + \". The corresponding rows of which are \")\n",
    "print(missing[1])"
   ]
  },
  {
   "cell_type": "code",
   "execution_count": 183,
   "metadata": {},
   "outputs": [
    {
     "name": "stdout",
     "output_type": "stream",
     "text": [
      "Total number of missing datapoints for G2 (math): 13. The corresponding rows of which are \n",
      "{130, 131, 162, 134, 135, 136, 137, 332, 269, 144, 242, 244, 153}\n"
     ]
    }
   ],
   "source": [
    "missing = returnMissingRows(mathTransformed, ['G2'])\n",
    "print(\"Total number of missing datapoints for G2 (math): \" + str(missing[0]) + \". The corresponding rows of which are \")\n",
    "print(missing[1])"
   ]
  },
  {
   "cell_type": "code",
   "execution_count": 184,
   "metadata": {},
   "outputs": [
    {
     "name": "stdout",
     "output_type": "stream",
     "text": [
      "Total number of missing datapoints for G3 (math): 38. The corresponding rows of which are \n",
      "{128, 130, 131, 259, 387, 134, 135, 136, 137, 264, 389, 140, 269, 144, 146, 148, 150, 153, 160, 162, 168, 296, 170, 173, 310, 316, 332, 333, 334, 337, 341, 343, 221, 239, 367, 242, 244, 383}\n"
     ]
    }
   ],
   "source": [
    "missing = returnMissingRows(mathTransformed, ['G3'])\n",
    "print(\"Total number of missing datapoints for G3 (math): \" + str(missing[0]) + \". The corresponding rows of which are \")\n",
    "print(missing[1])"
   ]
  },
  {
   "cell_type": "code",
   "execution_count": 193,
   "metadata": {
    "collapsed": true
   },
   "outputs": [],
   "source": [
    "def inpute_values(df, col, cols_not_consider, k):\n",
    "    '''\n",
    "    Takes a dataframe and a col and inputes all missing values for that column.\n",
    "    Mutates the input dataframe directly. cols_not_consider stands for the other columns\n",
    "    where if any row having a NaN or 0 in this column will not be considered for the inputation.\n",
    "    k stands for the top k nearest neighbors to consider for inputation.\n",
    "    '''\n",
    "    missing = returnMissingRows(df, [col])\n",
    "    missingRows = missing[1]\n",
    "    otherRows = [i for i in range(len(df[col])) if i not in missingRows and (df[j][i] != 0 for j in cols_not_consider)]\n",
    "    values = []\n",
    "    for i in missingRows:\n",
    "        values = []\n",
    "        for j in otherRows:\n",
    "            curMissing = df.iloc[i].values\n",
    "            curOther = df.iloc[j].values\n",
    "            values.append([df[col][j], pearsonr(curMissing, curOther)[0]])\n",
    "            values.sort(key = lambda x: x[1], reverse=True)\n",
    "            topK = values[:10]\n",
    "            num = 0\n",
    "            den = 0\n",
    "            for k in topK:\n",
    "                num += k[1] * k[0]\n",
    "                den += k[1]\n",
    "            inputed_value = int(round(num/den))\n",
    "        assert(df[col][i] == 0)\n",
    "        df[col][i] = inputed_value\n",
    "        assert(df[col][i] != 0)"
   ]
  },
  {
   "cell_type": "code",
   "execution_count": 187,
   "metadata": {},
   "outputs": [
    {
     "name": "stderr",
     "output_type": "stream",
     "text": [
      "C:\\Users\\Andrew\\Anaconda3\\lib\\site-packages\\ipykernel_launcher.py:27: SettingWithCopyWarning: \n",
      "A value is trying to be set on a copy of a slice from a DataFrame\n",
      "\n",
      "See the caveats in the documentation: http://pandas.pydata.org/pandas-docs/stable/indexing.html#indexing-view-versus-copy\n"
     ]
    }
   ],
   "source": [
    "inpute_values(mathTransformed, 'G1', ['G2', 'G3'], 10)\n",
    "inpute_values(mathTransformed, 'G2', ['G1', 'G3'], 10)\n",
    "inpute_values(mathTransformed, 'G3', ['G2', 'G3'], 10)"
   ]
  },
  {
   "cell_type": "code",
   "execution_count": 196,
   "metadata": {},
   "outputs": [
    {
     "name": "stdout",
     "output_type": "stream",
     "text": [
      "Total number of missing datapoints (math) after inputation: 0. The corresponding rows of which are \n",
      "set()\n"
     ]
    }
   ],
   "source": [
    "missing = returnMissingRows(mathTransformed, ['G1', 'G2', 'G3'])\n",
    "print(\"Total number of missing datapoints (math) after inputation: \" + str(missing[0]) + \". The corresponding rows of which are \")\n",
    "print(missing[1])"
   ]
  },
  {
   "cell_type": "code",
   "execution_count": 197,
   "metadata": {},
   "outputs": [
    {
     "name": "stdout",
     "output_type": "stream",
     "text": [
      "Total number of missing datapoints (port): 0. The corresponding rows of which are \n",
      "set()\n"
     ]
    }
   ],
   "source": [
    "missing = returnMissingRows(portTransformed, ['G1', 'G2', 'G3'])\n",
    "print(\"Total number of missing datapoints (port): \" + str(missing[0]) + \". The corresponding rows of which are \")\n",
    "print(missing[1])"
   ]
  },
  {
   "cell_type": "code",
   "execution_count": 198,
   "metadata": {},
   "outputs": [],
   "source": [
    "inpute_values(portTransformed, 'G1', ['G2', 'G3'], 10)\n",
    "inpute_values(portTransformed, 'G2', ['G1', 'G3'], 10)\n",
    "inpute_values(portTransformed, 'G3', ['G2', 'G3'], 10)"
   ]
  },
  {
   "cell_type": "code",
   "execution_count": 199,
   "metadata": {},
   "outputs": [
    {
     "name": "stdout",
     "output_type": "stream",
     "text": [
      "Total number of missing datapoints (port) after inputation: 0. The corresponding rows of which are \n",
      "set()\n"
     ]
    }
   ],
   "source": [
    "missing = returnMissingRows(portTransformed, ['G1', 'G2', 'G3'])\n",
    "print(\"Total number of missing datapoints (port) after inputation: \" + str(missing[0]) + \". The corresponding rows of which are \")\n",
    "print(missing[1])"
   ]
  },
  {
   "cell_type": "code",
   "execution_count": null,
   "metadata": {
    "collapsed": true
   },
   "outputs": [],
   "source": []
  }
 ],
 "metadata": {
  "kernelspec": {
   "display_name": "Python 3",
   "language": "python",
   "name": "python3"
  },
  "language_info": {
   "codemirror_mode": {
    "name": "ipython",
    "version": 3
   },
   "file_extension": ".py",
   "mimetype": "text/x-python",
   "name": "python",
   "nbconvert_exporter": "python",
   "pygments_lexer": "ipython3",
   "version": "3.6.1"
  }
 },
 "nbformat": 4,
 "nbformat_minor": 2
}
