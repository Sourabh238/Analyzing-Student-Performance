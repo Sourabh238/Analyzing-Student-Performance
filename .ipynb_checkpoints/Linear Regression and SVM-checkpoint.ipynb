{
 "cells": [
  {
   "cell_type": "code",
   "execution_count": 58,
   "metadata": {},
   "outputs": [],
   "source": [
    "import pandas as pd\n",
    "import numpy as np\n",
    "import sklearn\n",
    "from sklearn.model_selection import GridSearchCV\n",
    "from sklearn.preprocessing import LabelEncoder\n",
    "from sklearn.preprocessing import LabelBinarizer\n",
    "from sklearn import linear_model\n",
    "import matplotlib.pyplot as plt\n",
    "import seaborn as sns\n",
    "from sklearn.model_selection import cross_val_score\n",
    "from sklearn.model_selection import cross_validate\n",
    "from sklearn.model_selection import LeaveOneOut\n",
    "sns.set(style=\"whitegrid\")\n",
    "sns.set_color_codes(\"pastel\")\n",
    "%matplotlib inline"
   ]
  },
  {
   "cell_type": "markdown",
   "metadata": {},
   "source": [
    "### Preprocessing"
   ]
  },
  {
   "cell_type": "code",
   "execution_count": 2,
   "metadata": {
    "collapsed": true
   },
   "outputs": [],
   "source": [
    "math = pd.read_csv('math.csv')\n",
    "port = pd.read_csv('port.csv')"
   ]
  },
  {
   "cell_type": "code",
   "execution_count": 3,
   "metadata": {
    "collapsed": true
   },
   "outputs": [],
   "source": [
    "# Dropping the first column of ID numbers\n",
    "del[math['Unnamed: 0']]\n",
    "del[port['Unnamed: 0']]"
   ]
  },
  {
   "cell_type": "code",
   "execution_count": 4,
   "metadata": {
    "collapsed": true
   },
   "outputs": [],
   "source": [
    "# This will be our transformed dataframes\n",
    "mathTransformed = math.copy(deep=True)\n",
    "portTransformed = port.copy(deep=True)"
   ]
  },
  {
   "cell_type": "code",
   "execution_count": 5,
   "metadata": {
    "collapsed": true
   },
   "outputs": [],
   "source": [
    "'''\n",
    "1 school - student's school (binary: 'GP' - Gabriel Pereira or 'MS' - Mousinho da Silveira) \n",
    "2 sex - student's sex (binary: 'F' - female or 'M' - male) \n",
    "3 age - student's age (numeric: from 15 to 22) \n",
    "4 address - student's home address type (binary: 'U' - urban or 'R' - rural) \n",
    "5 famsize - family size (binary: 'LE3' - less or equal to 3 or 'GT3' - greater than 3) \n",
    "6 Pstatus - parent's cohabitation status (binary: 'T' - living together or 'A' - apart) \n",
    "7 Medu - mother's education (numeric: 0 - none, 1 - primary education (4th grade), 2 â€“ 5th to 9th grade, 3 â€“ secondary education or 4 â€“ higher education) \n",
    "8 Fedu - father's education (numeric: 0 - none, 1 - primary education (4th grade), 2 â€“ 5th to 9th grade, 3 â€“ secondary education or 4 â€“ higher education) \n",
    "9 Mjob - mother's job (nominal: 'teacher', 'health' care related, civil 'services' (e.g. administrative or police), 'at_home' or 'other') \n",
    "10 Fjob - father's job (nominal: 'teacher', 'health' care related, civil 'services' (e.g. administrative or police), 'at_home' or 'other') \n",
    "11 reason - reason to choose this school (nominal: close to 'home', school 'reputation', 'course' preference or 'other') \n",
    "12 guardian - student's guardian (nominal: 'mother', 'father' or 'other') \n",
    "13 traveltime - home to school travel time (numeric: 1 - <15 min., 2 - 15 to 30 min., 3 - 30 min. to 1 hour, or 4 - >1 hour) \n",
    "14 studytime - weekly study time (numeric: 1 - <2 hours, 2 - 2 to 5 hours, 3 - 5 to 10 hours, or 4 - >10 hours) \n",
    "15 failures - number of past class failures (numeric: n if 1<=n<3, else 4) \n",
    "16 schoolsup - extra educational support (binary: yes or no) \n",
    "17 famsup - family educational support (binary: yes or no) \n",
    "18 paid - extra paid classes within the course subject (Math or Portuguese) (binary: yes or no) \n",
    "19 activities - extra-curricular activities (binary: yes or no) \n",
    "20 nursery - attended nursery school (binary: yes or no) \n",
    "21 higher - wants to take higher education (binary: yes or no) \n",
    "22 internet - Internet access at home (binary: yes or no) \n",
    "23 romantic - with a romantic relationship (binary: yes or no) \n",
    "24 famrel - quality of family relationships (numeric: from 1 - very bad to 5 - excellent) \n",
    "25 freetime - free time after school (numeric: from 1 - very low to 5 - very high) \n",
    "26 goout - going out with friends (numeric: from 1 - very low to 5 - very high) \n",
    "27 Dalc - workday alcohol consumption (numeric: from 1 - very low to 5 - very high) \n",
    "28 Walc - weekend alcohol consumption (numeric: from 1 - very low to 5 - very high) \n",
    "29 health - current health status (numeric: from 1 - very bad to 5 - very good) \n",
    "30 absences - number of school absences (numeric: from 0 to 93) \n",
    "\n",
    "# these grades are related with the course subject, Math or Portuguese: \n",
    "31 G1 - first period grade (numeric: from 0 to 20) \n",
    "31 G2 - second period grade (numeric: from 0 to 20) \n",
    "32 G3 - final grade (numeric: from 0 to 20, output target\n",
    "'''\n",
    "pass"
   ]
  },
  {
   "cell_type": "code",
   "execution_count": 6,
   "metadata": {
    "collapsed": true
   },
   "outputs": [],
   "source": [
    "def returnCategoricalColumns(df):\n",
    "    '''\n",
    "    This function takes in a dataframe and returns the \n",
    "    column names which are categorical / must be labeled\n",
    "    numerically for training.\n",
    "    '''\n",
    "    columns = []\n",
    "    for i in list(df):\n",
    "        if not str(math[i][0]).isdigit():\n",
    "            columns.append(i)\n",
    "    return columns    "
   ]
  },
  {
   "cell_type": "code",
   "execution_count": 7,
   "metadata": {
    "collapsed": true
   },
   "outputs": [],
   "source": [
    "def getBinaryAndNominalColumns(df, categoricalColumns):\n",
    "    '''\n",
    "    This function takes a list of categorical columns\n",
    "    and separates into a list of binary columns, which\n",
    "    we can easily one label encode into 0/1 and \n",
    "    nominal columns which we will need to one hot vector\n",
    "    encode.\n",
    "    '''\n",
    "    binary = []\n",
    "    nominal = []\n",
    "    for i in categoricalColumns:\n",
    "        if len(list(set(df[i]))) == 2:\n",
    "            binary.append(i)\n",
    "        else:\n",
    "            nominal.append(i)\n",
    "    return binary, nominal"
   ]
  },
  {
   "cell_type": "code",
   "execution_count": 8,
   "metadata": {},
   "outputs": [
    {
     "name": "stdout",
     "output_type": "stream",
     "text": [
      "['school', 'sex', 'address', 'famsize', 'Pstatus', 'Mjob', 'Fjob', 'reason', 'guardian', 'schoolsup', 'famsup', 'paid', 'activities', 'nursery', 'higher', 'internet', 'romantic']\n"
     ]
    }
   ],
   "source": [
    "# categorical columns are the same for both port and math\n",
    "assert(returnCategoricalColumns(math) == returnCategoricalColumns(port))\n",
    "categoricalColumns = returnCategoricalColumns(math)\n",
    "print(categoricalColumns)"
   ]
  },
  {
   "cell_type": "code",
   "execution_count": 9,
   "metadata": {},
   "outputs": [
    {
     "name": "stdout",
     "output_type": "stream",
     "text": [
      "['school', 'sex', 'address', 'famsize', 'Pstatus', 'schoolsup', 'famsup', 'paid', 'activities', 'nursery', 'higher', 'internet', 'romantic']\n",
      "['Mjob', 'Fjob', 'reason', 'guardian']\n"
     ]
    }
   ],
   "source": [
    "binary, nominal = getBinaryAndNominalColumns(math, categoricalColumns)\n",
    "print(binary)\n",
    "print(nominal)"
   ]
  },
  {
   "cell_type": "code",
   "execution_count": 10,
   "metadata": {
    "collapsed": true
   },
   "outputs": [],
   "source": [
    "def convertBinaryColumns(df, binary, transformed_df):\n",
    "    '''\n",
    "    This function converts the binary columns in our dataframe\n",
    "    into numerical (0/1) labels and adds a corresponding\n",
    "    column to transformed_df\n",
    "    '''\n",
    "    for i in binary:\n",
    "        lb_style = LabelBinarizer()\n",
    "        lb_results = lb_style.fit_transform(df[i])\n",
    "        transformed_df[i] = lb_results"
   ]
  },
  {
   "cell_type": "code",
   "execution_count": 11,
   "metadata": {
    "collapsed": true
   },
   "outputs": [],
   "source": [
    "convertBinaryColumns(math, binary, mathTransformed)\n",
    "convertBinaryColumns(port, binary, portTransformed)"
   ]
  },
  {
   "cell_type": "code",
   "execution_count": 12,
   "metadata": {
    "collapsed": true
   },
   "outputs": [],
   "source": [
    "assert(list(portTransformed) == list(port))\n",
    "assert(list(mathTransformed) == list(math))"
   ]
  },
  {
   "cell_type": "code",
   "execution_count": 13,
   "metadata": {
    "collapsed": true
   },
   "outputs": [],
   "source": [
    "# One hot vector encode nominal variables\n",
    "mathTransformed = pd.get_dummies(mathTransformed, columns=nominal)\n",
    "portTransformed = pd.get_dummies(portTransformed, columns=nominal)"
   ]
  },
  {
   "cell_type": "code",
   "execution_count": 14,
   "metadata": {
    "collapsed": true
   },
   "outputs": [],
   "source": [
    "assert(list(portTransformed) == list(mathTransformed))"
   ]
  },
  {
   "cell_type": "code",
   "execution_count": 15,
   "metadata": {
    "collapsed": true
   },
   "outputs": [],
   "source": [
    "for i in list(mathTransformed):\n",
    "    if not str(mathTransformed[i][0]).isdigit() or not str(portTransformed[i][0]).isdigit():\n",
    "        assert(False)"
   ]
  },
  {
   "cell_type": "markdown",
   "metadata": {},
   "source": [
    "### We have finally one labeled / one hot vector encoded our input data and can now start learning."
   ]
  },
  {
   "cell_type": "code",
   "execution_count": 16,
   "metadata": {
    "collapsed": true
   },
   "outputs": [],
   "source": [
    "targetColumn = ['G3']\n",
    "featureColumns = [i for i in list(portTransformed) if i not in targetColumn]"
   ]
  },
  {
   "cell_type": "code",
   "execution_count": 17,
   "metadata": {
    "collapsed": true
   },
   "outputs": [],
   "source": [
    "portX = portTransformed[featureColumns]\n",
    "mathX = mathTransformed[featureColumns]\n",
    "portY = portTransformed[targetColumn]\n",
    "mathY = mathTransformed[targetColumn]"
   ]
  },
  {
   "cell_type": "code",
   "execution_count": 54,
   "metadata": {
    "collapsed": true
   },
   "outputs": [],
   "source": [
    "def linearRegression(originalDf, targetColumn, featureColumns):\n",
    "    '''\n",
    "    Runs unregularized linear regression and returns the \n",
    "    R^2 and mean squared error (averaged over all folds \n",
    "    via cross validation)\n",
    "    '''\n",
    "    lm = linear_model.LinearRegression(normalize=True)\n",
    "    X = originalDf[featureColumns]\n",
    "    y = originalDf[targetColumn]\n",
    "    scores = cross_validate(lm, X, y, scoring=['r2','neg_mean_squared_error'], cv=10, return_train_score=False)\n",
    "    return scores"
   ]
  },
  {
   "cell_type": "code",
   "execution_count": 96,
   "metadata": {},
   "outputs": [],
   "source": [
    "def linearRegressionRidge(originalDf, targetColumn, featureColumns):\n",
    "    '''\n",
    "    Runs ridge regularized linear regression and returns the \n",
    "    mean and standard deviation of test scores\n",
    "    '''\n",
    "    parameters = {'alpha' : np.arange(0.0001, 0.01, 0.01)}\n",
    "    scoringMethods = ['r2','neg_mean_squared_error']\n",
    "    test_scores = []\n",
    "    for score in scoringMethods:\n",
    "        lm = linear_model.Ridge(normalize=True)\n",
    "        X = originalDf[featureColumns]\n",
    "        y = originalDf[targetColumn]\n",
    "        clf = GridSearchCV(lm, parameters, cv=10, scoring=score)\n",
    "        clf.fit(X,y)\n",
    "        test_scores.append(clf.cv_results_['mean_test_score'])\n",
    "    return test_scores"
   ]
  },
  {
   "cell_type": "code",
   "execution_count": 108,
   "metadata": {
    "collapsed": true
   },
   "outputs": [],
   "source": [
    "def linearRegressionLasso(originalDf, targetColumn, featureColumns):\n",
    "    '''\n",
    "    Runs lasso regularized linear regression and returns the \n",
    "    mean and standard deviation of test scores\n",
    "    '''\n",
    "    parameters = {'alpha' : np.arange(0.0001, 0.01, 0.01)}\n",
    "    scoringMethods = ['r2','neg_mean_squared_error']\n",
    "    test_scores = []\n",
    "    for score in scoringMethods:\n",
    "        lm = linear_model.Lasso(normalize=True)\n",
    "        X = originalDf[featureColumns]\n",
    "        y = originalDf[targetColumn]\n",
    "        clf = GridSearchCV(lm, parameters, cv=10, scoring=score)\n",
    "        clf.fit(X,y)\n",
    "        test_scores.append(clf.cv_results_['mean_test_score'])\n",
    "    return test_scores"
   ]
  },
  {
   "cell_type": "markdown",
   "metadata": {},
   "source": [
    "#### Let's first start with linear regression"
   ]
  },
  {
   "cell_type": "code",
   "execution_count": 18,
   "metadata": {
    "collapsed": true
   },
   "outputs": [],
   "source": [
    "######################## WITH GRADES ###############################"
   ]
  },
  {
   "cell_type": "code",
   "execution_count": 87,
   "metadata": {},
   "outputs": [
    {
     "name": "stdout",
     "output_type": "stream",
     "text": [
      "Accuracy: 0.80 (+/- 0.18)\n",
      "Accuracy: -1.80 (+/- 2.95)\n"
     ]
    }
   ],
   "source": [
    "# Unregularized linear regression\n",
    "scores = linearRegression(portTransformed, targetColumn, featureColumns)\n",
    "portR2, port_mean_sq = scores['test_r2'], scores['test_neg_mean_squared_error']\n",
    "print(\"Accuracy: %0.2f (+/- %0.2f)\" % (portR2.mean(), portR2.std() * 2))\n",
    "print(\"Accuracy: %0.2f (+/- %0.2f)\" % (port_mean_sq.mean(), port_mean_sq.std() * 2))"
   ]
  },
  {
   "cell_type": "code",
   "execution_count": 99,
   "metadata": {},
   "outputs": [
    {
     "name": "stdout",
     "output_type": "stream",
     "text": [
      "Accuracy: 0.80 (+/- 0.00)\n",
      "Accuracy: -1.79 (+/- 0.00)\n"
     ]
    }
   ],
   "source": [
    "# With ridge regression\n",
    "scoresRidge = linearRegressionRidge(portTransformed, targetColumn, featureColumns)\n",
    "portR2, port_mean_sq = scoresRidge[0], scoresRidge[1]\n",
    "print(\"Accuracy: %0.2f (+/- %0.2f)\" % (portR2.mean(), portR2.std() * 2))\n",
    "print(\"Accuracy: %0.2f (+/- %0.2f)\" % (port_mean_sq.mean(), port_mean_sq.std() * 2))"
   ]
  },
  {
   "cell_type": "code",
   "execution_count": 110,
   "metadata": {},
   "outputs": [
    {
     "name": "stdout",
     "output_type": "stream",
     "text": [
      "Accuracy: 0.81 (+/- 0.00)\n",
      "Accuracy: -1.78 (+/- 0.00)\n"
     ]
    }
   ],
   "source": [
    "# With lasso regression\n",
    "scoresLasso = linearRegressionLasso(portTransformed, targetColumn, featureColumns)\n",
    "portR2, port_mean_sq = scoresLasso[0], scoresLasso[1]\n",
    "print(\"Accuracy: %0.2f (+/- %0.2f)\" % (portR2.mean(), portR2.std() * 2))\n",
    "print(\"Accuracy: %0.2f (+/- %0.2f)\" % (port_mean_sq.mean(), port_mean_sq.std() * 2))"
   ]
  },
  {
   "cell_type": "code",
   "execution_count": null,
   "metadata": {
    "collapsed": true
   },
   "outputs": [],
   "source": []
  }
 ],
 "metadata": {
  "kernelspec": {
   "display_name": "Python 3",
   "language": "python",
   "name": "python3"
  },
  "language_info": {
   "codemirror_mode": {
    "name": "ipython",
    "version": 3
   },
   "file_extension": ".py",
   "mimetype": "text/x-python",
   "name": "python",
   "nbconvert_exporter": "python",
   "pygments_lexer": "ipython3",
   "version": "3.6.1"
  }
 },
 "nbformat": 4,
 "nbformat_minor": 2
}
