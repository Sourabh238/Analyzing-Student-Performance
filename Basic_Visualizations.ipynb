{
 "cells": [
  {
   "cell_type": "code",
   "execution_count": 2,
   "metadata": {},
   "outputs": [],
   "source": [
    "import pandas as pd\n",
    "import numpy as np\n",
    "import sklearn\n",
    "import matplotlib.pyplot as plt\n",
    "import seaborn as sns\n",
    "\n",
    "sns.set(style=\"whitegrid\")\n",
    "sns.set_color_codes(\"pastel\")\n",
    "%matplotlib inline"
   ]
  },
  {
   "cell_type": "code",
   "execution_count": 2,
   "metadata": {
    "collapsed": true
   },
   "outputs": [],
   "source": [
    "# data contains all data merged together\n",
    "data = pd.read_csv('allstudents.csv')"
   ]
  },
  {
   "cell_type": "code",
   "execution_count": 3,
   "metadata": {},
   "outputs": [
    {
     "data": {
      "text/html": [
       "<div>\n",
       "<style>\n",
       "    .dataframe thead tr:only-child th {\n",
       "        text-align: right;\n",
       "    }\n",
       "\n",
       "    .dataframe thead th {\n",
       "        text-align: left;\n",
       "    }\n",
       "\n",
       "    .dataframe tbody tr th {\n",
       "        vertical-align: top;\n",
       "    }\n",
       "</style>\n",
       "<table border=\"1\" class=\"dataframe\">\n",
       "  <thead>\n",
       "    <tr style=\"text-align: right;\">\n",
       "      <th></th>\n",
       "      <th>student #</th>\n",
       "      <th>school</th>\n",
       "      <th>sex</th>\n",
       "      <th>age</th>\n",
       "      <th>address</th>\n",
       "      <th>famsize</th>\n",
       "      <th>Pstatus</th>\n",
       "      <th>Medu</th>\n",
       "      <th>Fedu</th>\n",
       "      <th>Mjob</th>\n",
       "      <th>...</th>\n",
       "      <th>famrel.y</th>\n",
       "      <th>freetime.y</th>\n",
       "      <th>goout.y</th>\n",
       "      <th>Dalc.y</th>\n",
       "      <th>Walc.y</th>\n",
       "      <th>health.y</th>\n",
       "      <th>absences.y</th>\n",
       "      <th>G1.y</th>\n",
       "      <th>G2.y</th>\n",
       "      <th>G3.y</th>\n",
       "    </tr>\n",
       "  </thead>\n",
       "  <tbody>\n",
       "    <tr>\n",
       "      <th>0</th>\n",
       "      <td>1</td>\n",
       "      <td>GP</td>\n",
       "      <td>F</td>\n",
       "      <td>15</td>\n",
       "      <td>R</td>\n",
       "      <td>GT3</td>\n",
       "      <td>T</td>\n",
       "      <td>1</td>\n",
       "      <td>1</td>\n",
       "      <td>at_home</td>\n",
       "      <td>...</td>\n",
       "      <td>3</td>\n",
       "      <td>1</td>\n",
       "      <td>2</td>\n",
       "      <td>1</td>\n",
       "      <td>1</td>\n",
       "      <td>1</td>\n",
       "      <td>4</td>\n",
       "      <td>13</td>\n",
       "      <td>13</td>\n",
       "      <td>13</td>\n",
       "    </tr>\n",
       "    <tr>\n",
       "      <th>1</th>\n",
       "      <td>2</td>\n",
       "      <td>GP</td>\n",
       "      <td>F</td>\n",
       "      <td>15</td>\n",
       "      <td>R</td>\n",
       "      <td>GT3</td>\n",
       "      <td>T</td>\n",
       "      <td>1</td>\n",
       "      <td>1</td>\n",
       "      <td>other</td>\n",
       "      <td>...</td>\n",
       "      <td>3</td>\n",
       "      <td>3</td>\n",
       "      <td>4</td>\n",
       "      <td>2</td>\n",
       "      <td>4</td>\n",
       "      <td>5</td>\n",
       "      <td>2</td>\n",
       "      <td>13</td>\n",
       "      <td>11</td>\n",
       "      <td>11</td>\n",
       "    </tr>\n",
       "    <tr>\n",
       "      <th>2</th>\n",
       "      <td>3</td>\n",
       "      <td>GP</td>\n",
       "      <td>F</td>\n",
       "      <td>15</td>\n",
       "      <td>R</td>\n",
       "      <td>GT3</td>\n",
       "      <td>T</td>\n",
       "      <td>2</td>\n",
       "      <td>2</td>\n",
       "      <td>at_home</td>\n",
       "      <td>...</td>\n",
       "      <td>4</td>\n",
       "      <td>3</td>\n",
       "      <td>1</td>\n",
       "      <td>1</td>\n",
       "      <td>1</td>\n",
       "      <td>2</td>\n",
       "      <td>8</td>\n",
       "      <td>14</td>\n",
       "      <td>13</td>\n",
       "      <td>12</td>\n",
       "    </tr>\n",
       "    <tr>\n",
       "      <th>3</th>\n",
       "      <td>4</td>\n",
       "      <td>GP</td>\n",
       "      <td>F</td>\n",
       "      <td>15</td>\n",
       "      <td>R</td>\n",
       "      <td>GT3</td>\n",
       "      <td>T</td>\n",
       "      <td>2</td>\n",
       "      <td>4</td>\n",
       "      <td>services</td>\n",
       "      <td>...</td>\n",
       "      <td>4</td>\n",
       "      <td>3</td>\n",
       "      <td>2</td>\n",
       "      <td>1</td>\n",
       "      <td>1</td>\n",
       "      <td>5</td>\n",
       "      <td>2</td>\n",
       "      <td>10</td>\n",
       "      <td>11</td>\n",
       "      <td>10</td>\n",
       "    </tr>\n",
       "    <tr>\n",
       "      <th>4</th>\n",
       "      <td>5</td>\n",
       "      <td>GP</td>\n",
       "      <td>F</td>\n",
       "      <td>15</td>\n",
       "      <td>R</td>\n",
       "      <td>GT3</td>\n",
       "      <td>T</td>\n",
       "      <td>3</td>\n",
       "      <td>3</td>\n",
       "      <td>services</td>\n",
       "      <td>...</td>\n",
       "      <td>4</td>\n",
       "      <td>2</td>\n",
       "      <td>1</td>\n",
       "      <td>2</td>\n",
       "      <td>3</td>\n",
       "      <td>3</td>\n",
       "      <td>2</td>\n",
       "      <td>13</td>\n",
       "      <td>13</td>\n",
       "      <td>13</td>\n",
       "    </tr>\n",
       "  </tbody>\n",
       "</table>\n",
       "<p>5 rows × 54 columns</p>\n",
       "</div>"
      ],
      "text/plain": [
       "   student # school sex  age address famsize Pstatus  Medu  Fedu      Mjob  \\\n",
       "0          1     GP   F   15       R     GT3       T     1     1   at_home   \n",
       "1          2     GP   F   15       R     GT3       T     1     1     other   \n",
       "2          3     GP   F   15       R     GT3       T     2     2   at_home   \n",
       "3          4     GP   F   15       R     GT3       T     2     4  services   \n",
       "4          5     GP   F   15       R     GT3       T     3     3  services   \n",
       "\n",
       "  ...  famrel.y freetime.y goout.y Dalc.y Walc.y  health.y  absences.y  G1.y  \\\n",
       "0 ...         3          1       2      1      1         1           4    13   \n",
       "1 ...         3          3       4      2      4         5           2    13   \n",
       "2 ...         4          3       1      1      1         2           8    14   \n",
       "3 ...         4          3       2      1      1         5           2    10   \n",
       "4 ...         4          2       1      2      3         3           2    13   \n",
       "\n",
       "  G2.y G3.y  \n",
       "0   13   13  \n",
       "1   11   11  \n",
       "2   13   12  \n",
       "3   11   10  \n",
       "4   13   13  \n",
       "\n",
       "[5 rows x 54 columns]"
      ]
     },
     "execution_count": 3,
     "metadata": {},
     "output_type": "execute_result"
    }
   ],
   "source": [
    "data.head()"
   ]
  },
  {
   "cell_type": "markdown",
   "metadata": {},
   "source": [
    "There are 383 students in our dataset."
   ]
  },
  {
   "cell_type": "code",
   "execution_count": 4,
   "metadata": {},
   "outputs": [
    {
     "name": "stdout",
     "output_type": "stream",
     "text": [
      "<class 'pandas.core.frame.DataFrame'>\n",
      "RangeIndex: 382 entries, 0 to 381\n",
      "Data columns (total 54 columns):\n",
      "student #       382 non-null int64\n",
      "school          382 non-null object\n",
      "sex             382 non-null object\n",
      "age             382 non-null int64\n",
      "address         382 non-null object\n",
      "famsize         382 non-null object\n",
      "Pstatus         382 non-null object\n",
      "Medu            382 non-null int64\n",
      "Fedu            382 non-null int64\n",
      "Mjob            382 non-null object\n",
      "Fjob            382 non-null object\n",
      "reason          382 non-null object\n",
      "nursery         382 non-null object\n",
      "internet        382 non-null object\n",
      "guardian.x      382 non-null object\n",
      "traveltime.x    382 non-null int64\n",
      "studytime.x     382 non-null int64\n",
      "failures.x      382 non-null int64\n",
      "schoolsup.x     382 non-null object\n",
      "famsup.x        382 non-null object\n",
      "paid.x          382 non-null object\n",
      "activities.x    382 non-null object\n",
      "higher.x        382 non-null object\n",
      "romantic.x      382 non-null object\n",
      "famrel.x        382 non-null int64\n",
      "freetime.x      382 non-null int64\n",
      "goout.x         382 non-null int64\n",
      "Dalc.x          382 non-null int64\n",
      "Walc.x          382 non-null int64\n",
      "health.x        382 non-null int64\n",
      "absences.x      382 non-null int64\n",
      "G1.x            382 non-null int64\n",
      "G2.x            382 non-null int64\n",
      "G3.x            382 non-null int64\n",
      "guardian.y      382 non-null object\n",
      "traveltime.y    382 non-null int64\n",
      "studytime.y     382 non-null int64\n",
      "failures.y      382 non-null int64\n",
      "schoolsup.y     382 non-null object\n",
      "famsup.y        382 non-null object\n",
      "paid.y          382 non-null object\n",
      "activities.y    382 non-null object\n",
      "higher.y        382 non-null object\n",
      "romantic.y      382 non-null object\n",
      "famrel.y        382 non-null int64\n",
      "freetime.y      382 non-null int64\n",
      "goout.y         382 non-null int64\n",
      "Dalc.y          382 non-null int64\n",
      "Walc.y          382 non-null int64\n",
      "health.y        382 non-null int64\n",
      "absences.y      382 non-null int64\n",
      "G1.y            382 non-null int64\n",
      "G2.y            382 non-null int64\n",
      "G3.y            382 non-null int64\n",
      "dtypes: int64(30), object(24)\n",
      "memory usage: 161.2+ KB\n"
     ]
    }
   ],
   "source": [
    "data.info()"
   ]
  },
  {
   "cell_type": "markdown",
   "metadata": {},
   "source": [
    "# BASIC VISUALIZATIONS"
   ]
  },
  {
   "cell_type": "markdown",
   "metadata": {},
   "source": [
    "## GENDER"
   ]
  },
  {
   "cell_type": "code",
   "execution_count": 19,
   "metadata": {
    "scrolled": true
   },
   "outputs": [
    {
     "data": {
      "image/png": "[encoded data removed]",
      "text/plain": [
       "<matplotlib.figure.Figure at 0x9fc5c9b240>"
      ]
     },
     "metadata": {},
     "output_type": "display_data"
    }
   ],
   "source": [
    "f, ax = plt.subplots()\n",
    "a = plt.pie(data['sex'].value_counts().tolist(), \n",
    "        labels=['Female', 'Male'], colors = ['pink', 'cyan'],\n",
    "        autopct='%1.2f%%', startangle=90)\n",
    "axis = plt.axis('equal')\n",
    "plt.title('Gender')\n",
    "plt.savefig('gender.png', bbox_inches='tight')"
   ]
  },
  {
   "cell_type": "markdown",
   "metadata": {},
   "source": [
    "## AGE"
   ]
  },
  {
   "cell_type": "code",
   "execution_count": 20,
   "metadata": {},
   "outputs": [
    {
     "data": {
      "image/png": "[encoded data removed]",
      "text/plain": [
       "<matplotlib.figure.Figure at 0x9fc5c90780>"
      ]
     },
     "metadata": {},
     "output_type": "display_data"
    }
   ],
   "source": [
    "f, ax = plt.subplots()\n",
    "figure = sns.countplot(x = 'age', data=data, order=list(range(15, 23)), color = 'blue')\n",
    "ax = ax.set(ylabel=\"Count\", xlabel=\"Age\")\n",
    "figure.grid(False)\n",
    "plt.title('Age Distribution')\n",
    "plt.savefig('age.png', bbox_inches='tight')"
   ]
  },
  {
   "cell_type": "markdown",
   "metadata": {},
   "source": [
    "## WEEKLY STUDY TIME"
   ]
  },
  {
   "cell_type": "code",
   "execution_count": 10,
   "metadata": {
    "collapsed": true
   },
   "outputs": [],
   "source": [
    "studytimes_combined = pd.concat([data['studytime.x'], data['studytime.y']])"
   ]
  },
  {
   "cell_type": "code",
   "execution_count": 21,
   "metadata": {},
   "outputs": [
    {
     "data": {
      "image/png": "[encoded data removed]",
      "text/plain": [
       "<matplotlib.figure.Figure at 0x9fc5cbf7f0>"
      ]
     },
     "metadata": {},
     "output_type": "display_data"
    }
   ],
   "source": [
    "f, ax = plt.subplots(figsize=(4, 4))\n",
    "plt.pie(studytimes_combined.value_counts().tolist(), \n",
    "        labels=['2 to 5 hours', '<2 hours', '5 to 10 hours', '>10 hours'], \n",
    "        autopct='%1.1f%%', startangle=0)\n",
    "axis = plt.axis('equal')\n",
    "plt.title('Study time')\n",
    "plt.savefig('studytime.png', bbox_inches='tight')"
   ]
  },
  {
   "cell_type": "markdown",
   "metadata": {},
   "source": [
    "## ROMANTIC RELATIONSHIP"
   ]
  },
  {
   "cell_type": "code",
   "execution_count": 22,
   "metadata": {},
   "outputs": [
    {
     "data": {
      "image/png": "[encoded data removed]",
      "text/plain": [
       "<matplotlib.figure.Figure at 0x9fc61d3860>"
      ]
     },
     "metadata": {},
     "output_type": "display_data"
    }
   ],
   "source": [
    "f, ax = plt.subplots(figsize=(4, 4))\n",
    "romantic_combined = pd.concat([data['romantic.x'], data['romantic.y']])\n",
    "plt.pie(romantic_combined.value_counts().tolist(), \n",
    "        labels=['No', 'Yes'], autopct='%1.1f%%', startangle=90)\n",
    "axis = plt.axis('equal')\n",
    "plt.title('In a romantic relationship')\n",
    "plt.savefig('romantic.png', bbox_inches='tight')"
   ]
  },
  {
   "cell_type": "markdown",
   "metadata": {},
   "source": [
    "## ALCOHOL CONSUMPTION"
   ]
  },
  {
   "cell_type": "markdown",
   "metadata": {},
   "source": [
    "### Workday alcohol consumption"
   ]
  },
  {
   "cell_type": "code",
   "execution_count": 14,
   "metadata": {
    "collapsed": true
   },
   "outputs": [],
   "source": [
    "dalc_combined = pd.concat([data['Dalc.x'], data['Dalc.y']])\n",
    "dalc_combined = dalc_combined.reset_index()\n",
    "dalc_combined.rename(columns={0:'count'}, inplace=True)\n",
    "dalc_combined.columns = ['ID','Workday alcohol']"
   ]
  },
  {
   "cell_type": "code",
   "execution_count": 15,
   "metadata": {},
   "outputs": [
    {
     "data": {
      "image/png": "[encoded data removed]",
      "text/plain": [
       "<matplotlib.figure.Figure at 0x9fc6061048>"
      ]
     },
     "metadata": {},
     "output_type": "display_data"
    }
   ],
   "source": [
    "f, ax = plt.subplots()\n",
    "figure = sns.countplot(x = 'Workday alcohol', data=dalc_combined, order=list(range(1, 6)), color = 'violet')\n",
    "ax = ax.set(ylabel=\"Count\", xlabel=\"Workday Alcohol Consumption\")\n",
    "figure.grid(False)\n",
    "plt.savefig('alcohol_workday.png', bbox_inches='tight')"
   ]
  },
  {
   "cell_type": "markdown",
   "metadata": {},
   "source": [
    "### Weekend alcohol consumption"
   ]
  },
  {
   "cell_type": "code",
   "execution_count": 17,
   "metadata": {
    "collapsed": true
   },
   "outputs": [],
   "source": [
    "walc_combined = pd.concat([data['Walc.x'], data['Walc.y']])\n",
    "walc_combined = walc_combined.reset_index()\n",
    "walc_combined.rename(columns={0:'count'}, inplace=True)\n",
    "walc_combined.columns = ['ID','Weekend alcohol']"
   ]
  },
  {
   "cell_type": "code",
   "execution_count": 23,
   "metadata": {},
   "outputs": [
    {
     "data": {
      "image/png": "[encoded data removed]",
      "text/plain": [
       "<matplotlib.figure.Figure at 0x9fc61c34a8>"
      ]
     },
     "metadata": {},
     "output_type": "display_data"
    }
   ],
   "source": [
    "f, ax = plt.subplots()\n",
    "figure = sns.countplot(x = 'Weekend alcohol', data=walc_combined, order=list(range(1, 6)), color = 'violet')\n",
    "ax = ax.set(ylabel=\"Count\", xlabel=\"Weekend Alcohol Consumption\")\n",
    "figure.grid(False)\n",
    "plt.savefig('alcohol_weekend.png', bbox_inches='tight')"
   ]
  },
  {
   "cell_type": "code",
   "execution_count": null,
   "metadata": {
    "collapsed": true
   },
   "outputs": [],
   "source": []
  }
 ],
 "metadata": {
  "kernelspec": {
   "display_name": "Python 3",
   "language": "python",
   "name": "python3"
  },
  "language_info": {
   "codemirror_mode": {
    "name": "ipython",
    "version": 3
   },
   "file_extension": ".py",
   "mimetype": "text/x-python",
   "name": "python",
   "nbconvert_exporter": "python",
   "pygments_lexer": "ipython3",
   "version": "3.6.1"
  }
 },
 "nbformat": 4,
 "nbformat_minor": 2
}
